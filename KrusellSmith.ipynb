{
 "cells": [
  {
   "cell_type": "markdown",
   "metadata": {},
   "source": [
    "# Replicating Maliar, Maliar, and Valli (2010, JEDC) to solve Krusell and Smith (1998, JPE) model using Julia\n",
    "\n",
    "\n",
    "By [Shunsuke Hori](https://github.com/Shunsuke-Hori)\n"
   ]
  },
  {
   "cell_type": "markdown",
   "metadata": {},
   "source": [
    "# Overview of the notebook\n",
    "This notebook solves the model of [Krusell and Smith (1998, JPE)](https://www.journals.uchicago.edu/doi/10.1086/250034) and succesfully replicating the result of [Maliar, Maliar, and Valli (2010, JEDC)](https://www.sciencedirect.com/science/article/pii/S0165188909001328).\n",
    "\n",
    "The solution strategy is as follows\n",
    "\n",
    "1. Solve the individual problem by Euler equation method or value function iteration (VFI) with 2D interpolation\n",
    "    - Agents are boundedly rational. In the code, they take into account the information about the mean of capital\n",
    "    - Aggregate law of motion is approximated by log-linear relation, i.e. $\\log(K_{t+1})=B1+B2\\log(K_{t})$ for good aggregate state and $\\log(K_{t+1})=B3+B4\\log(K_{t})$ for bad aggregate state \n",
    "    - If specified, Howard's policy iteration is used\n",
    "1. Compute the path of aggregate capital using the policy function obtained by 1. There are two ways of simulation:\n",
    "    - Monte Carlo following Krusell and Smith (1998). That is, aggregate technology shocks and idiosyncratic employment shocks are drawn for many agents and many periods. Then, using the LLN, the aggregate capital is computed by aggregating all agents for all period.\n",
    "    - Non-stochastic method following [Young (2010, JEDC)](https://www.sciencedirect.com/science/article/pii/S0165188909001316).\n",
    "1. Update the coefficient of aggregate capital law of motion, $B1$, $B2$, $B3$ and $B4$, by regression\n",
    "1. Check convergence of $B1$, $B2$, $B3$ and $B4$\n",
    "\n",
    "NOTE: Regarding interpolation, Krusell and Smith uses various interpolation scheme depending on the purpose, including polynomial interpolation. Maliar, Maliar, and Valli uses spline interpolation in their paper. This notebook only uses linear interpolation.\n",
    "\n",
    "This notebook written in Julia solves the model much faster than the code of Maliar et al. (2010) written in Matlab according to [den Haan (2010, JEDC)](https://www.sciencedirect.com/science/article/pii/S0165188909001298), although they are not simply comparable because initial guess, interpolation methods, and running environments are different."
   ]
  },
  {
   "cell_type": "markdown",
   "metadata": {},
   "source": [
    "# Code to solve models"
   ]
  },
  {
   "cell_type": "markdown",
   "metadata": {},
   "source": [
    "First thing to do is importing functions from `KSfunctions.ipynb`.\n",
    "\n",
    "You can find the notebook in the [QuantEcon repositoy](https://github.com/QuantEcon/krusell_smith_code)."
   ]
  },
  {
   "cell_type": "code",
   "execution_count": 2,
   "metadata": {},
   "outputs": [],
   "source": [
    "using NBInclude\n",
    "@nbinclude(\"KSfunctions.ipynb\")\n",
    "using Plots      # to plot the result\n",
    "# pyplot()"
   ]
  },
  {
   "cell_type": "markdown",
   "metadata": {},
   "source": [
    "## Implementation by Euler method"
   ]
  },
  {
   "cell_type": "markdown",
   "metadata": {},
   "source": [
    "First, construct a `NamedTuple`, `ksp`, which contains the parameters of the model and `kss` which has initial guess of the solution.\n",
    "\n",
    "(Grid size inconsistency is also checked, which may return error when exiting result is loaded by `load_value=true`)"
   ]
  },
  {
   "cell_type": "code",
   "execution_count": 3,
   "metadata": {
    "scrolled": true
   },
   "outputs": [],
   "source": [
    "# instance of KSParameter\n",
    "ksp = KSParameter()\n",
    "# instance of KSSolution\n",
    "kss = KSSolution(ksp, load_value=false, load_B=false)\n",
    "if size(kss.k_opt,1) != length(ksp.k_grid)\n",
    "    error(\"loaded data is inconsistent with k_size\")\n",
    "end\n",
    "if size(kss.k_opt,2) != length(ksp.K_grid)\n",
    "    error(\"loaded data is inconsistent with K_size\")\n",
    "end"
   ]
  },
  {
   "cell_type": "markdown",
   "metadata": {},
   "source": [
    "Let's draw the shock for stochastic simulation of aggregate law of motion"
   ]
  },
  {
   "cell_type": "code",
   "execution_count": 4,
   "metadata": {
    "scrolled": true
   },
   "outputs": [
    {
     "name": "stdout",
     "output_type": "stream",
     "text": [
      "  2.051108 seconds (3.30 M allocations: 569.305 MiB, 6.74% gc time, 65.66% compilation time)\n"
     ]
    }
   ],
   "source": [
    "# generate shocks\n",
    "Random.seed!(0) # for reproducability\n",
    "@time zi_shocks, epsi_shocks =generate_shocks(ksp;\n",
    "        z_shock_size=1100, population=10000);"
   ]
  },
  {
   "cell_type": "markdown",
   "metadata": {},
   "source": [
    "Now, the following cell solves the model with Euler equation method"
   ]
  },
  {
   "cell_type": "code",
   "execution_count": 5,
   "metadata": {
    "scrolled": true
   },
   "outputs": [
    {
     "name": "stdout",
     "output_type": "stream",
     "text": [
      " --- Iteration over ALM coefficient: 1 ---\n"
     ]
    },
    {
     "name": "stderr",
     "output_type": "stream",
     "text": [
      "\u001b[32mSolving individual UMP by Euler method:  Time: 0:01:41 (1868 iterations)\u001b[39m)\u001b[39m\n",
      "\u001b[32msimulating aggregate path ...100%|██████████████████████| Time: 0:01:37\u001b[39m\n"
     ]
    },
    {
     "name": "stdout",
     "output_type": "stream",
     "text": [
      "difference of ALM coefficient is 0.454261756221843 and B = [0.454261756221843, 0.8776722007185975, 0.43788107716760255, 0.8804887500989276]\n",
      " --- Iteration over ALM coefficient: 2 ---\n"
     ]
    },
    {
     "name": "stderr",
     "output_type": "stream",
     "text": [
      "\u001b[32mSolving individual UMP by Euler method:  (thresh = 1e-08, value = 6.48848e-06)\u001b[39m"
     ]
    },
    {
     "ename": "LoadError",
     "evalue": "InterruptException:",
     "output_type": "error",
     "traceback": [
      "InterruptException:",
      "",
      "Stacktrace:",
      " [1] compute_expectation_FOC(kp::Float64, Kp::Float64, s_i::Int64, ksp::NamedTuple{(:u, :beta, :alpha, :delta, :theta, :l_bar, :k_min, :k_max, :k_grid, :K_min, :K_max, :K_grid, :z_grid, :eps_grid, :s_grid, :k_size, :K_size, :z_size, :eps_size, :s_size, :ug, :ub, :transmat, :mu), Tuple{LogUtility, Float64, Float64, Float64, Int64, Float64, Int64, Int64, Vector{Float64}, Int64, Int64, StepRangeLen{Float64, Base.TwicePrecision{Float64}, Base.TwicePrecision{Float64}}, StepRangeLen{Float64, Base.TwicePrecision{Float64}, Base.TwicePrecision{Float64}}, StepRangeLen{Float64, Base.TwicePrecision{Float64}, Base.TwicePrecision{Float64}}, Matrix{Float64}, Int64, Int64, Int64, Int64, Int64, Float64, Float64, TransitionMatrix, Int64}})",
      "   @ Main ~/git/krusell_smith_code/KSfunctions.ipynb:In[+15]:14",
      " [2] solve_ump!(umpsm::EulerMethod, ksp::NamedTuple{(:u, :beta, :alpha, :delta, :theta, :l_bar, :k_min, :k_max, :k_grid, :K_min, :K_max, :K_grid, :z_grid, :eps_grid, :s_grid, :k_size, :K_size, :z_size, :eps_size, :s_size, :ug, :ub, :transmat, :mu), Tuple{LogUtility, Float64, Float64, Float64, Int64, Float64, Int64, Int64, Vector{Float64}, Int64, Int64, StepRangeLen{Float64, Base.TwicePrecision{Float64}, Base.TwicePrecision{Float64}}, StepRangeLen{Float64, Base.TwicePrecision{Float64}, Base.TwicePrecision{Float64}}, StepRangeLen{Float64, Base.TwicePrecision{Float64}, Base.TwicePrecision{Float64}}, Matrix{Float64}, Int64, Int64, Int64, Int64, Int64, Float64, Float64, TransitionMatrix, Int64}}, kss::KSSolution; max_iter::Int64, tol::Float64)",
      "   @ Main ~/git/krusell_smith_code/KSfunctions.ipynb:In[+14]:23",
      " [3] find_ALM_coef!(umpsm::EulerMethod, sm::Stochastic, ksp::NamedTuple{(:u, :beta, :alpha, :delta, :theta, :l_bar, :k_min, :k_max, :k_grid, :K_min, :K_max, :K_grid, :z_grid, :eps_grid, :s_grid, :k_size, :K_size, :z_size, :eps_size, :s_size, :ug, :ub, :transmat, :mu), Tuple{LogUtility, Float64, Float64, Float64, Int64, Float64, Int64, Int64, Vector{Float64}, Int64, Int64, StepRangeLen{Float64, Base.TwicePrecision{Float64}, Base.TwicePrecision{Float64}}, StepRangeLen{Float64, Base.TwicePrecision{Float64}, Base.TwicePrecision{Float64}}, StepRangeLen{Float64, Base.TwicePrecision{Float64}, Base.TwicePrecision{Float64}}, Matrix{Float64}, Int64, Int64, Int64, Int64, Int64, Float64, Float64, TransitionMatrix, Int64}}, kss::KSSolution, zi_shocks::Vector{Int64}; tol_ump::Float64, max_iter_ump::Int64, tol_B::Float64, max_iter_B::Int64, update_B::Float64, T_discard::Int64)",
      "   @ Main ~/git/krusell_smith_code/KSfunctions.ipynb:In[+30]:18",
      " [4] top-level scope",
      "   @ ./timing.jl:210 [inlined]",
      " [5] top-level scope",
      "   @ ./In[5]:0",
      " [6] eval",
      "   @ ./boot.jl:360 [inlined]",
      " [7] include_string(mapexpr::typeof(REPL.softscope), mod::Module, code::String, filename::String)",
      "   @ Base ./loading.jl:1094"
     ]
    }
   ],
   "source": [
    "# find ALM coefficient\n",
    "sm = Stochastic(epsi_shocks)\n",
    "T_discard = 100\n",
    "@time K_ts = find_ALM_coef!(EulerMethod(),\n",
    "            sm, ksp, kss, zi_shocks, \n",
    "            tol_ump = 1e-8, max_iter_ump = 10000,\n",
    "            tol_B = 1e-8, max_iter_B = 500, update_B = 0.3,\n",
    "            T_discard = T_discard);"
   ]
  },
  {
   "cell_type": "markdown",
   "metadata": {},
   "source": [
    "Let's compare the true aggreate law of motion for capital and approximated one with figure and regression"
   ]
  },
  {
   "cell_type": "code",
   "execution_count": 5,
   "metadata": {},
   "outputs": [
    {
     "data": {
      "image/png": "[encoded data removed]"
     },
     "execution_count": 5,
     "metadata": {},
     "output_type": "execute_result"
    }
   ],
   "source": [
    "plot_ALM(ksp.z_grid, zi_shocks, kss.B,K_ts, T_discard = T_discard)"
   ]
  },
  {
   "cell_type": "code",
   "execution_count": 6,
   "metadata": {},
   "outputs": [
    {
     "name": "stdout",
     "output_type": "stream",
     "text": [
      "Approximated aggregate capital law of motion\n",
      "log(K_{t+1})=0.1533888678582281+0.9592537018105605log(K_{t}) in good time (R2 = 0.9999965851470959)\n",
      "log(K_{t+1})=0.14199999106533273+0.9609525795431593log(K_{t}) in bad time (R2 = 0.9999940336791976)\n"
     ]
    }
   ],
   "source": [
    "#kss.B  # Regression coefficient\n",
    "println(\"Approximated aggregate capital law of motion\")\n",
    "println(\"log(K_{t+1})=$(kss.B[1])+$(kss.B[2])log(K_{t}) in good time (R2 = $(kss.R2[1]))\")\n",
    "println(\"log(K_{t+1})=$(kss.B[3])+$(kss.B[4])log(K_{t}) in bad time (R2 = $(kss.R2[2]))\")"
   ]
  },
  {
   "cell_type": "markdown",
   "metadata": {},
   "source": [
    "The approximated law of motion of capital is very close to the true one, which implies that assuming agents are partially rational is not bad idea since the difference of their actions are negligible.\n",
    "\n",
    "The mean of capital, about 40, is  sufficiently close to Maliar et al. (2010)."
   ]
  },
  {
   "cell_type": "code",
   "execution_count": 7,
   "metadata": {},
   "outputs": [],
   "source": [
    "@save \"result_Euler.jld2\" ksp kss "
   ]
  },
  {
   "cell_type": "code",
   "execution_count": 8,
   "metadata": {},
   "outputs": [
    {
     "name": "stdout",
     "output_type": "stream",
     "text": [
      "mean of capital implied by regression is 40.46934609899746\n",
      "mean of capital implied by simulation is 40.67905048880162\n"
     ]
    }
   ],
   "source": [
    "# Compute mean of capital implied by regression\n",
    "mc=MarkovChain(ksp.transmat.Pz)\n",
    "sd=stationary_distributions(mc)[1]\n",
    "logKg=kss.B[1]/(1-kss.B[2])\n",
    "logKb=kss.B[3]/(1-kss.B[4])\n",
    "meanK_reg=exp(sd[1]*logKg+sd[2]*logKb)\n",
    "meanK_sim=mean(K_ts[T_discard+1:end])\n",
    "println(\"mean of capital implied by regression is $meanK_reg\")\n",
    "println(\"mean of capital implied by simulation is $meanK_sim\")"
   ]
  },
  {
   "cell_type": "markdown",
   "metadata": {},
   "source": [
    "## Figures in Krusell-Smith"
   ]
  },
  {
   "cell_type": "markdown",
   "metadata": {},
   "source": [
    "Now, plot the replication figure:"
   ]
  },
  {
   "cell_type": "markdown",
   "metadata": {},
   "source": [
    "### Figure 1"
   ]
  },
  {
   "cell_type": "code",
   "execution_count": 9,
   "metadata": {},
   "outputs": [
    {
     "data": {
      "image/png": "[encoded data removed]"
     },
     "execution_count": 9,
     "metadata": {},
     "output_type": "execute_result"
    }
   ],
   "source": [
    "plot_Fig1(ksp ,kss, K_ts)"
   ]
  },
  {
   "cell_type": "markdown",
   "metadata": {},
   "source": [
    "### Figure 2"
   ]
  },
  {
   "cell_type": "code",
   "execution_count": 10,
   "metadata": {},
   "outputs": [
    {
     "data": {
      "image/png": "[encoded data removed]"
     },
     "execution_count": 10,
     "metadata": {},
     "output_type": "execute_result"
    }
   ],
   "source": [
    "plot_Fig2(ksp, kss, 40)"
   ]
  },
  {
   "cell_type": "markdown",
   "metadata": {},
   "source": [
    "Both figures are replicated well. "
   ]
  },
  {
   "cell_type": "markdown",
   "metadata": {},
   "source": [
    "# Solution with Young (2008)'s method\n",
    "In this section, aggregate capital is simulated by the method of Young (2008)."
   ]
  },
  {
   "cell_type": "code",
   "execution_count": 11,
   "metadata": {},
   "outputs": [
    {
     "name": "stdout",
     "output_type": "stream",
     "text": [
      " --- Iteration over ALM coefficient: 1 ---\n"
     ]
    },
    {
     "name": "stderr",
     "output_type": "stream",
     "text": [
      "\u001b[32mSolving individual UMP by Euler method:  Time: 0:00:52 (1868 iterations)\u001b[39m)\u001b[39m\n",
      "\u001b[32msimulating aggregate path ... 73%|█████████████████     |  ETA: 0:00:01\u001b[39m"
     ]
    },
    {
     "name": "stdout",
     "output_type": "stream",
     "text": [
      "difference of ALM coefficient is 0.4561348316213136 and B = [0.456135, 0.877212, 0.436797, 0.880838]\n",
      " --- Iteration over ALM coefficient: 2 ---"
     ]
    },
    {
     "name": "stderr",
     "output_type": "stream",
     "text": [
      "\r",
      "\u001b[32msimulating aggregate path ... 98%|██████████████████████|  ETA: 0:00:00\u001b[39m\r",
      "\u001b[32msimulating aggregate path ...100%|██████████████████████| Time: 0:00:03\u001b[39m\n"
     ]
    },
    {
     "name": "stdout",
     "output_type": "stream",
     "text": [
      "\n"
     ]
    },
    {
     "name": "stderr",
     "output_type": "stream",
     "text": [
      "\u001b[32mSolving individual UMP by Euler method:  Time: 0:00:48 (2006 iterations)\u001b[39m)\u001b[39m\n",
      "\u001b[32msimulating aggregate path ... 92%|█████████████████████ |  ETA: 0:00:00\u001b[39m"
     ]
    },
    {
     "name": "stdout",
     "output_type": "stream",
     "text": [
      "difference of ALM coefficient is 0.008617043773197455 and B = [0.142877, 0.962002, 0.122422, 0.966001]\n",
      " --- Iteration over ALM coefficient: 3 ---\n"
     ]
    },
    {
     "name": "stderr",
     "output_type": "stream",
     "text": [
      "\u001b[32msimulating aggregate path ...100%|██████████████████████| Time: 0:00:02\u001b[39m\n",
      "\u001b[32mSolving individual UMP by Euler method:  Time: 0:00:31 (1375 iterations)\u001b[39m)\u001b[39m\n",
      "\u001b[32msimulating aggregate path ... 74%|█████████████████     |  ETA: 0:00:01\u001b[39m"
     ]
    },
    {
     "name": "stdout",
     "output_type": "stream",
     "text": [
      "difference of ALM coefficient is 0.007375020667367477 and B = [0.146027, 0.961212, 0.128755, 0.964392]\n",
      " --- Iteration over ALM coefficient: 4 ---\n"
     ]
    },
    {
     "name": "stderr",
     "output_type": "stream",
     "text": [
      "\u001b[32msimulating aggregate path ...100%|██████████████████████| Time: 0:00:02\u001b[39m\n",
      "\u001b[32mSolving individual UMP by Euler method:  Time: 0:00:34 (1464 iterations)\u001b[39m)\u001b[39m\n",
      "\u001b[32msimulating aggregate path ... 73%|████████████████      |  ETA: 0:00:01\u001b[39m"
     ]
    },
    {
     "name": "stdout",
     "output_type": "stream",
     "text": [
      "difference of ALM coefficient is 0.005267484488800378 and B = [0.146131, 0.961154, 0.129092, 0.9643]\n",
      " --- Iteration over ALM coefficient: 5 ---\n"
     ]
    },
    {
     "name": "stderr",
     "output_type": "stream",
     "text": [
      "\u001b[32msimulating aggregate path ...100%|██████████████████████| Time: 0:00:02\u001b[39m\n",
      "\u001b[32mSolving individual UMP by Euler method:  Time: 0:00:32 (1345 iterations)\u001b[39m)\u001b[39m\n",
      "\u001b[32msimulating aggregate path ... 75%|█████████████████     |  ETA: 0:00:01\u001b[39m"
     ]
    },
    {
     "name": "stdout",
     "output_type": "stream",
     "text": [
      "difference of ALM coefficient is 0.0040070314216140435 and B = [0.146451, 0.961065, 0.130024, 0.964064]\n",
      " --- Iteration over ALM coefficient: 6 ---\n"
     ]
    },
    {
     "name": "stderr",
     "output_type": "stream",
     "text": [
      "\u001b[32msimulating aggregate path ...100%|██████████████████████| Time: 0:00:02\u001b[39m\n",
      "\u001b[32mSolving individual UMP by Euler method:  Time: 0:00:31 (1329 iterations)\u001b[39m)\u001b[39m\n",
      "\u001b[32msimulating aggregate path ... 74%|█████████████████     |  ETA: 0:00:01\u001b[39m"
     ]
    },
    {
     "name": "stdout",
     "output_type": "stream",
     "text": [
      "difference of ALM coefficient is 0.002959894299560145 and B = [0.146606, 0.961018, 0.130712, 0.963886]\n",
      " --- Iteration over ALM coefficient: 7 ---\n"
     ]
    },
    {
     "name": "stderr",
     "output_type": "stream",
     "text": [
      "\u001b[32msimulating aggregate path ...100%|██████████████████████| Time: 0:00:02\u001b[39m\n",
      "\u001b[32mSolving individual UMP by Euler method:  Time: 0:00:29 (1278 iterations)\u001b[39m)\u001b[39m\n",
      "\u001b[32msimulating aggregate path ... 73%|█████████████████     |  ETA: 0:00:01\u001b[39m"
     ]
    },
    {
     "name": "stdout",
     "output_type": "stream",
     "text": [
      "difference of ALM coefficient is 0.002149672093765459 and B = [0.146684, 0.960994, 0.131256, 0.963744]\n",
      " --- Iteration over ALM coefficient: 8 ---\n"
     ]
    },
    {
     "name": "stderr",
     "output_type": "stream",
     "text": [
      "\u001b[32msimulating aggregate path ...100%|██████████████████████| Time: 0:00:02\u001b[39m\n",
      "\u001b[32mSolving individual UMP by Euler method:  Time: 0:00:28 (1228 iterations)\u001b[39m)\u001b[39m\n",
      "\u001b[32msimulating aggregate path ... 83%|███████████████████   |  ETA: 0:00:00\u001b[39m"
     ]
    },
    {
     "name": "stdout",
     "output_type": "stream",
     "text": [
      "difference of ALM coefficient is 0.001557972215212089 and B = [0.146711, 0.960985, 0.131645, 0.963643]\n",
      " --- Iteration over ALM coefficient: 9 ---\n"
     ]
    },
    {
     "name": "stderr",
     "output_type": "stream",
     "text": [
      "\u001b[32msimulating aggregate path ...100%|██████████████████████| Time: 0:00:03\u001b[39m\n",
      "\u001b[32mSolving individual UMP by Euler method:  Time: 0:00:27 (1176 iterations)\u001b[39m)\u001b[39m\n",
      "\u001b[32msimulating aggregate path ... 77%|█████████████████     |  ETA: 0:00:00\u001b[39m"
     ]
    },
    {
     "name": "stdout",
     "output_type": "stream",
     "text": [
      "difference of ALM coefficient is 0.0013627235518748892 and B = [0.146715, 0.960982, 0.131917, 0.963572]\n",
      " --- Iteration over ALM coefficient: 10 ---\n"
     ]
    },
    {
     "name": "stderr",
     "output_type": "stream",
     "text": [
      "\u001b[32msimulating aggregate path ...100%|██████████████████████| Time: 0:00:02\u001b[39m\n",
      "\u001b[32mSolving individual UMP by Euler method:  Time: 0:00:26 (1124 iterations)\u001b[39m)\u001b[39m\n",
      "\u001b[32msimulating aggregate path ...100%|██████████████████████| Time: 0:00:02\u001b[39m\n"
     ]
    },
    {
     "name": "stdout",
     "output_type": "stream",
     "text": [
      "difference of ALM coefficient is 0.0011429971537960382 and B = [0.146711, 0.960983, 0.132106, 0.963522]\n",
      " --- Iteration over ALM coefficient: 11 ---\n"
     ]
    },
    {
     "name": "stderr",
     "output_type": "stream",
     "text": [
      "\u001b[32mSolving individual UMP by Euler method:  Time: 0:00:26 (1075 iterations)\u001b[39m)\u001b[39m\n",
      "\u001b[32msimulating aggregate path ... 75%|█████████████████     |  ETA: 0:00:00\u001b[39m"
     ]
    },
    {
     "name": "stdout",
     "output_type": "stream",
     "text": [
      "difference of ALM coefficient is 0.000933283892693676 and B = [0.146706, 0.960983, 0.132239, 0.963487]\n",
      " --- Iteration over ALM coefficient: 12 ---\n"
     ]
    },
    {
     "name": "stderr",
     "output_type": "stream",
     "text": [
      "\u001b[32msimulating aggregate path ...100%|██████████████████████| Time: 0:00:02\u001b[39m\n",
      "\u001b[32mSolving individual UMP by Euler method:  Time: 0:00:24 (1028 iterations)\u001b[39m)\u001b[39m\n",
      "\u001b[32msimulating aggregate path ... 75%|█████████████████     |  ETA: 0:00:01\u001b[39m"
     ]
    },
    {
     "name": "stdout",
     "output_type": "stream",
     "text": [
      "difference of ALM coefficient is 0.0007498547904362107 and B = [0.146704, 0.960984, 0.132336, 0.963462]\n",
      " --- Iteration over ALM coefficient: 13 ---\n"
     ]
    },
    {
     "name": "stderr",
     "output_type": "stream",
     "text": [
      "\u001b[32msimulating aggregate path ...100%|██████████████████████| Time: 0:00:02\u001b[39m\n",
      "\u001b[32mSolving individual UMP by Euler method:  Time: 0:00:23 (985 iterations)\u001b[39m8)\u001b[39m\n",
      "\u001b[32msimulating aggregate path ... 74%|█████████████████     |  ETA: 0:00:01\u001b[39m"
     ]
    },
    {
     "name": "stdout",
     "output_type": "stream",
     "text": [
      "difference of ALM coefficient is 0.0005976751652848611 and B = [0.146705, 0.960983, 0.132409, 0.963443]\n",
      " --- Iteration over ALM coefficient: 14 ---\n"
     ]
    },
    {
     "name": "stderr",
     "output_type": "stream",
     "text": [
      "\u001b[32msimulating aggregate path ...100%|██████████████████████| Time: 0:00:02\u001b[39m\n",
      "\u001b[32mSolving individual UMP by Euler method:  Time: 0:00:22 (947 iterations)\u001b[39m8)\u001b[39m\n",
      "\u001b[32msimulating aggregate path ... 75%|█████████████████     |  ETA: 0:00:01\u001b[39m"
     ]
    },
    {
     "name": "stdout",
     "output_type": "stream",
     "text": [
      "difference of ALM coefficient is 0.0004756173132779984 and B = [0.146711, 0.960982, 0.132466, 0.963428]\n",
      " --- Iteration over ALM coefficient: 15 ---\n"
     ]
    },
    {
     "name": "stderr",
     "output_type": "stream",
     "text": [
      "\u001b[32msimulating aggregate path ...100%|██████████████████████| Time: 0:00:02\u001b[39m\n",
      "\u001b[32mSolving individual UMP by Euler method:  Time: 0:00:21 (912 iterations)\u001b[39m8)\u001b[39m\n",
      "\u001b[32msimulating aggregate path ... 76%|█████████████████     |  ETA: 0:00:00\u001b[39m"
     ]
    },
    {
     "name": "stdout",
     "output_type": "stream",
     "text": [
      "difference of ALM coefficient is 0.00037978251670364727 and B = [0.146718, 0.96098, 0.132513, 0.963416]\n",
      " --- Iteration over ALM coefficient: 16 ---\n"
     ]
    },
    {
     "name": "stderr",
     "output_type": "stream",
     "text": [
      "\u001b[32msimulating aggregate path ...100%|██████████████████████| Time: 0:00:02\u001b[39m\n",
      "\u001b[32mSolving individual UMP by Euler method:  Time: 0:00:21 (880 iterations)\u001b[39m)\u001b[39mm\n",
      "\u001b[32msimulating aggregate path ... 74%|█████████████████     |  ETA: 0:00:01\u001b[39m"
     ]
    },
    {
     "name": "stdout",
     "output_type": "stream",
     "text": [
      "difference of ALM coefficient is 0.0003054532672387422 and B = [0.146728, 0.960977, 0.132552, 0.963406]\n",
      " --- Iteration over ALM coefficient: 17 ---\n"
     ]
    },
    {
     "name": "stderr",
     "output_type": "stream",
     "text": [
      "\u001b[32msimulating aggregate path ...100%|██████████████████████| Time: 0:00:02\u001b[39m\n",
      "\u001b[32mSolving individual UMP by Euler method:  Time: 0:00:19 (852 iterations)\u001b[39m8)\u001b[39m\n",
      "\u001b[32msimulating aggregate path ... 73%|█████████████████     |  ETA: 0:00:01\u001b[39m"
     ]
    },
    {
     "name": "stdout",
     "output_type": "stream",
     "text": [
      "difference of ALM coefficient is 0.00024810888217277616 and B = [0.146738, 0.960974, 0.132587, 0.963397]\n",
      " --- Iteration over ALM coefficient: 18 ---\n"
     ]
    },
    {
     "name": "stderr",
     "output_type": "stream",
     "text": [
      "\u001b[32msimulating aggregate path ...100%|██████████████████████| Time: 0:00:02\u001b[39m\n",
      "\u001b[32mSolving individual UMP by Euler method:  Time: 0:00:19 (827 iterations)\u001b[39m8)\u001b[39m\n",
      "\u001b[32msimulating aggregate path ... 75%|█████████████████     |  ETA: 0:00:01\u001b[39m"
     ]
    },
    {
     "name": "stdout",
     "output_type": "stream",
     "text": [
      "difference of ALM coefficient is 0.000203855571243583 and B = [0.146748, 0.960972, 0.132617, 0.963389]\n",
      " --- Iteration over ALM coefficient: 19 ---\n"
     ]
    },
    {
     "name": "stderr",
     "output_type": "stream",
     "text": [
      "\u001b[32msimulating aggregate path ...100%|██████████████████████| Time: 0:00:02\u001b[39m\n",
      "\u001b[32mSolving individual UMP by Euler method:  Time: 0:00:18 (804 iterations)\u001b[39m8)\u001b[39m\n",
      "\u001b[32msimulating aggregate path ... 73%|█████████████████     |  ETA: 0:00:01\u001b[39m"
     ]
    },
    {
     "name": "stdout",
     "output_type": "stream",
     "text": [
      "difference of ALM coefficient is 0.00016953933124272402 and B = [0.146759, 0.960969, 0.132644, 0.963382]\n",
      " --- Iteration over ALM coefficient: 20 ---\n"
     ]
    },
    {
     "name": "stderr",
     "output_type": "stream",
     "text": [
      "\u001b[32msimulating aggregate path ...100%|██████████████████████| Time: 0:00:02\u001b[39m\n",
      "\u001b[32mSolving individual UMP by Euler method:  Time: 0:00:18 (782 iterations)\u001b[39m8)\u001b[39m\n",
      "\u001b[32msimulating aggregate path ... 76%|█████████████████     |  ETA: 0:00:00\u001b[39m"
     ]
    },
    {
     "name": "stdout",
     "output_type": "stream",
     "text": [
      "difference of ALM coefficient is 0.00014270299955676524 and B = [0.146768, 0.960966, 0.132668, 0.963375]\n",
      " --- Iteration over ALM coefficient: 21 ---\n"
     ]
    },
    {
     "name": "stderr",
     "output_type": "stream",
     "text": [
      "\u001b[32msimulating aggregate path ...100%|██████████████████████| Time: 0:00:02\u001b[39m\n",
      "\u001b[32mSolving individual UMP by Euler method:  Time: 0:00:17 (762 iterations)\u001b[39m8)\u001b[39m\n",
      "\u001b[32msimulating aggregate path ... 73%|█████████████████     |  ETA: 0:00:01\u001b[39m"
     ]
    },
    {
     "name": "stdout",
     "output_type": "stream",
     "text": [
      "difference of ALM coefficient is 0.00012147997353278983 and B = [0.146778, 0.960964, 0.132689, 0.96337]\n",
      " --- Iteration over ALM coefficient: 22 ---\n"
     ]
    },
    {
     "name": "stderr",
     "output_type": "stream",
     "text": [
      "\u001b[32msimulating aggregate path ...100%|██████████████████████| Time: 0:00:02\u001b[39m\n",
      "\u001b[32mSolving individual UMP by Euler method:  Time: 0:00:17 (744 iterations)\u001b[39m8)\u001b[39m\n",
      "\u001b[32msimulating aggregate path ... 93%|█████████████████████ |  ETA: 0:00:00\u001b[39m"
     ]
    },
    {
     "name": "stdout",
     "output_type": "stream",
     "text": [
      "difference of ALM coefficient is 0.00010447742525301895 and B = [0.146786, 0.960962, 0.132709, 0.963365]\n",
      " --- Iteration over ALM coefficient: 23 ---\n"
     ]
    },
    {
     "name": "stderr",
     "output_type": "stream",
     "text": [
      "\u001b[32msimulating aggregate path ...100%|██████████████████████| Time: 0:00:02\u001b[39m\n",
      "\u001b[32mSolving individual UMP by Euler method:  Time: 0:00:17 (725 iterations)\u001b[39m8)\u001b[39m\n",
      "\u001b[32msimulating aggregate path ... 75%|█████████████████     |  ETA: 0:00:01\u001b[39m"
     ]
    },
    {
     "name": "stdout",
     "output_type": "stream",
     "text": [
      "difference of ALM coefficient is 9.066849963249024e-5 and B = [0.146794, 0.96096, 0.132726, 0.96336]\n",
      " --- Iteration over ALM coefficient: 24 ---\n"
     ]
    },
    {
     "name": "stderr",
     "output_type": "stream",
     "text": [
      "\u001b[32msimulating aggregate path ...100%|██████████████████████| Time: 0:00:02\u001b[39m\n",
      "\u001b[32mSolving individual UMP by Euler method:  Time: 0:00:16 (708 iterations)\u001b[39m8)\u001b[39m\n",
      "\u001b[32msimulating aggregate path ... 73%|█████████████████     |  ETA: 0:00:01\u001b[39m"
     ]
    },
    {
     "name": "stdout",
     "output_type": "stream",
     "text": [
      "difference of ALM coefficient is 7.929176853394004e-5 and B = [0.146802, 0.960958, 0.132742, 0.963356]\n",
      " --- Iteration over ALM coefficient: 25 ---\n"
     ]
    },
    {
     "name": "stderr",
     "output_type": "stream",
     "text": [
      "\u001b[32msimulating aggregate path ...100%|██████████████████████| Time: 0:00:02\u001b[39m\n",
      "\u001b[32mSolving individual UMP by Euler method:  Time: 0:00:16 (691 iterations)\u001b[39m)\u001b[39mm\n",
      "\u001b[32msimulating aggregate path ... 74%|█████████████████     |  ETA: 0:00:01\u001b[39m"
     ]
    },
    {
     "name": "stdout",
     "output_type": "stream",
     "text": [
      "difference of ALM coefficient is 6.97903851978876e-5 and B = [0.146809, 0.960956, 0.132756, 0.963352]\n",
      " --- Iteration over ALM coefficient: 26 ---\n"
     ]
    },
    {
     "name": "stderr",
     "output_type": "stream",
     "text": [
      "\u001b[32msimulating aggregate path ...100%|██████████████████████| Time: 0:00:02\u001b[39m\n",
      "\u001b[32mSolving individual UMP by Euler method:  Time: 0:00:15 (674 iterations)\u001b[39m8)\u001b[39m\n",
      "\u001b[32msimulating aggregate path ... 76%|█████████████████     |  ETA: 0:00:01\u001b[39m"
     ]
    },
    {
     "name": "stdout",
     "output_type": "stream",
     "text": [
      "difference of ALM coefficient is 6.175582296052973e-5 and B = [0.146815, 0.960954, 0.132769, 0.963349]\n",
      " --- Iteration over ALM coefficient: 27 ---\n"
     ]
    },
    {
     "name": "stderr",
     "output_type": "stream",
     "text": [
      "\u001b[32msimulating aggregate path ...100%|██████████████████████| Time: 0:00:02\u001b[39m\n",
      "\u001b[32mSolving individual UMP by Euler method:  Time: 0:00:15 (658 iterations)\u001b[39m8)\u001b[39m\n",
      "\u001b[32msimulating aggregate path ... 73%|█████████████████     |  ETA: 0:00:01\u001b[39m"
     ]
    },
    {
     "name": "stdout",
     "output_type": "stream",
     "text": [
      "difference of ALM coefficient is 5.488468390446588e-5 and B = [0.14682, 0.960953, 0.132781, 0.963346]\n",
      " --- Iteration over ALM coefficient: 28 ---\n"
     ]
    },
    {
     "name": "stderr",
     "output_type": "stream",
     "text": [
      "\u001b[32msimulating aggregate path ...100%|██████████████████████| Time: 0:00:02\u001b[39m\n",
      "\u001b[32mSolving individual UMP by Euler method:  Time: 0:00:14 (642 iterations)\u001b[39m8)\u001b[39m\n",
      "\u001b[32msimulating aggregate path ... 95%|█████████████████████ |  ETA: 0:00:00\u001b[39m"
     ]
    },
    {
     "name": "stdout",
     "output_type": "stream",
     "text": [
      "difference of ALM coefficient is 4.89512334236053e-5 and B = [0.146825, 0.960952, 0.132792, 0.963343]\n",
      " --- Iteration over ALM coefficient: 29 ---\n"
     ]
    },
    {
     "name": "stderr",
     "output_type": "stream",
     "text": [
      "\u001b[32msimulating aggregate path ...100%|██████████████████████| Time: 0:00:02\u001b[39m\n",
      "\u001b[32mSolving individual UMP by Euler method:  Time: 0:00:14 (626 iterations)\u001b[39m8)\u001b[39m\n",
      "\u001b[32msimulating aggregate path ... 76%|█████████████████     |  ETA: 0:00:00\u001b[39m"
     ]
    },
    {
     "name": "stdout",
     "output_type": "stream",
     "text": [
      "difference of ALM coefficient is 4.37845498754974e-5 and B = [0.14683, 0.960951, 0.132801, 0.96334]\n",
      " --- Iteration over ALM coefficient: 30 ---\n"
     ]
    },
    {
     "name": "stderr",
     "output_type": "stream",
     "text": [
      "\u001b[32msimulating aggregate path ...100%|██████████████████████| Time: 0:00:02\u001b[39m\n",
      "\u001b[32mSolving individual UMP by Euler method:  Time: 0:00:14 (610 iterations)\u001b[39m8)\u001b[39m\n",
      "\u001b[32msimulating aggregate path ... 74%|█████████████████     |  ETA: 0:00:01\u001b[39m"
     ]
    },
    {
     "name": "stdout",
     "output_type": "stream",
     "text": [
      "difference of ALM coefficient is 3.92541615132358e-5 and B = [0.146834, 0.960949, 0.13281, 0.963338]\n",
      " --- Iteration over ALM coefficient: 31 ---\n"
     ]
    },
    {
     "name": "stderr",
     "output_type": "stream",
     "text": [
      "\u001b[32msimulating aggregate path ...100%|██████████████████████| Time: 0:00:02\u001b[39m\n",
      "\u001b[32mSolving individual UMP by Euler method:  Time: 0:00:13 (595 iterations)\u001b[39m8)\u001b[39m\n",
      "\u001b[32msimulating aggregate path ... 72%|████████████████      |  ETA: 0:00:01\u001b[39m"
     ]
    },
    {
     "name": "stdout",
     "output_type": "stream",
     "text": [
      "difference of ALM coefficient is 3.5258409811500524e-5 and B = [0.146838, 0.960948, 0.132817, 0.963336]\n",
      " --- Iteration over ALM coefficient: 32 ---\n"
     ]
    },
    {
     "name": "stderr",
     "output_type": "stream",
     "text": [
      "\u001b[32msimulating aggregate path ...100%|██████████████████████| Time: 0:00:02\u001b[39m\n",
      "\u001b[32mSolving individual UMP by Euler method:  Time: 0:00:13 (579 iterations)\u001b[39m8)\u001b[39m\n",
      "\u001b[32msimulating aggregate path ...100%|██████████████████████| Time: 0:00:02\u001b[39m\n"
     ]
    },
    {
     "name": "stdout",
     "output_type": "stream",
     "text": [
      "difference of ALM coefficient is 3.1717546197990165e-5 and B = [0.146841, 0.960948, 0.132824, 0.963334]\n",
      " --- Iteration over ALM coefficient: 33 ---\n"
     ]
    },
    {
     "name": "stderr",
     "output_type": "stream",
     "text": [
      "\u001b[32mSolving individual UMP by Euler method:  Time: 0:00:13 (564 iterations)\u001b[39m8)\u001b[39m\n",
      "\u001b[32msimulating aggregate path ... 73%|█████████████████     |  ETA: 0:00:01\u001b[39m"
     ]
    },
    {
     "name": "stdout",
     "output_type": "stream",
     "text": [
      "difference of ALM coefficient is 2.8567378619087647e-5 and B = [0.146844, 0.960947, 0.132831, 0.963333]\n",
      " --- Iteration over ALM coefficient: 34 ---\n"
     ]
    },
    {
     "name": "stderr",
     "output_type": "stream",
     "text": [
      "\u001b[32msimulating aggregate path ...100%|██████████████████████| Time: 0:00:02\u001b[39m\n",
      "\u001b[32mSolving individual UMP by Euler method:  Time: 0:00:13 (548 iterations)\u001b[39m8)\u001b[39m\n",
      "\u001b[32msimulating aggregate path ... 73%|████████████████      |  ETA: 0:00:01\u001b[39m"
     ]
    },
    {
     "name": "stdout",
     "output_type": "stream",
     "text": [
      "difference of ALM coefficient is 2.5756294767614873e-5 and B = [0.146847, 0.960946, 0.132837, 0.963331]\n",
      " --- Iteration over ALM coefficient: 35 ---\n"
     ]
    },
    {
     "name": "stderr",
     "output_type": "stream",
     "text": [
      "\u001b[32msimulating aggregate path ...100%|██████████████████████| Time: 0:00:02\u001b[39m\n",
      "\u001b[32mSolving individual UMP by Euler method:  Time: 0:00:12 (533 iterations)\u001b[39m)\u001b[39mm\n",
      "\u001b[32msimulating aggregate path ... 74%|█████████████████     |  ETA: 0:00:01\u001b[39m"
     ]
    },
    {
     "name": "stdout",
     "output_type": "stream",
     "text": [
      "difference of ALM coefficient is 2.3240819451986194e-5 and B = [0.14685, 0.960945, 0.132842, 0.96333]\n",
      " --- Iteration over ALM coefficient: 36 ---\n"
     ]
    },
    {
     "name": "stderr",
     "output_type": "stream",
     "text": [
      "\u001b[32msimulating aggregate path ...100%|██████████████████████| Time: 0:00:02\u001b[39m\n",
      "\u001b[32mSolving individual UMP by Euler method:  Time: 0:00:12 (518 iterations)\u001b[39m8)\u001b[39m\n",
      "\u001b[32msimulating aggregate path ... 72%|████████████████      |  ETA: 0:00:01\u001b[39m"
     ]
    },
    {
     "name": "stdout",
     "output_type": "stream",
     "text": [
      "difference of ALM coefficient is 2.0985733613115842e-5 and B = [0.146852, 0.960945, 0.132847, 0.963329]\n",
      " --- Iteration over ALM coefficient: 37 ---\n"
     ]
    },
    {
     "name": "stderr",
     "output_type": "stream",
     "text": [
      "\u001b[32msimulating aggregate path ...100%|██████████████████████| Time: 0:00:02\u001b[39m\n",
      "\u001b[32mSolving individual UMP by Euler method:  Time: 0:00:12 (503 iterations)\u001b[39m8)\u001b[39m\n",
      "\u001b[32msimulating aggregate path ... 76%|█████████████████     |  ETA: 0:00:01\u001b[39m"
     ]
    },
    {
     "name": "stdout",
     "output_type": "stream",
     "text": [
      "difference of ALM coefficient is 1.896030110459801e-5 and B = [0.146854, 0.960944, 0.132851, 0.963327]\n",
      " --- Iteration over ALM coefficient: 38 ---\n"
     ]
    },
    {
     "name": "stderr",
     "output_type": "stream",
     "text": [
      "\u001b[32msimulating aggregate path ...100%|██████████████████████| Time: 0:00:02\u001b[39m\n",
      "\u001b[32mSolving individual UMP by Euler method:  Time: 0:00:11 (488 iterations)\u001b[39m8)\u001b[39m\n",
      "\u001b[32msimulating aggregate path ... 75%|█████████████████     |  ETA: 0:00:01\u001b[39m"
     ]
    },
    {
     "name": "stdout",
     "output_type": "stream",
     "text": [
      "difference of ALM coefficient is 1.713855817897514e-5 and B = [0.146856, 0.960944, 0.132855, 0.963326]\n",
      " --- Iteration over ALM coefficient: 39 ---\n"
     ]
    },
    {
     "name": "stderr",
     "output_type": "stream",
     "text": [
      "\u001b[32msimulating aggregate path ...100%|██████████████████████| Time: 0:00:02\u001b[39m\n",
      "\u001b[32mSolving individual UMP by Euler method:  Time: 0:00:11 (473 iterations)\u001b[39m8)\u001b[39m\n",
      "\u001b[32msimulating aggregate path ... 75%|█████████████████     |  ETA: 0:00:01\u001b[39m"
     ]
    },
    {
     "name": "stdout",
     "output_type": "stream",
     "text": [
      "difference of ALM coefficient is 1.5498205413494448e-5 and B = [0.146858, 0.960943, 0.132858, 0.963325]\n",
      " --- Iteration over ALM coefficient: 40 ---\n"
     ]
    },
    {
     "name": "stderr",
     "output_type": "stream",
     "text": [
      "\u001b[32msimulating aggregate path ...100%|██████████████████████| Time: 0:00:02\u001b[39m\n",
      "\u001b[32mSolving individual UMP by Euler method:  Time: 0:00:10 (458 iterations)\u001b[39m)\u001b[39mm\n",
      "\u001b[32msimulating aggregate path ... 75%|█████████████████     |  ETA: 0:00:01\u001b[39m"
     ]
    },
    {
     "name": "stdout",
     "output_type": "stream",
     "text": [
      "difference of ALM coefficient is 1.4019786232499776e-5 and B = [0.146859, 0.960943, 0.132861, 0.963325]\n",
      " --- Iteration over ALM coefficient: 41 ---\n"
     ]
    },
    {
     "name": "stderr",
     "output_type": "stream",
     "text": [
      "\u001b[32msimulating aggregate path ...100%|██████████████████████| Time: 0:00:02\u001b[39m\n",
      "\u001b[32mSolving individual UMP by Euler method:  Time: 0:00:10 (443 iterations)\u001b[39m8)\u001b[39m\n",
      "\u001b[32msimulating aggregate path ... 75%|█████████████████     |  ETA: 0:00:01\u001b[39m"
     ]
    },
    {
     "name": "stdout",
     "output_type": "stream",
     "text": [
      "difference of ALM coefficient is 1.2686044406962083e-5 and B = [0.146861, 0.960943, 0.132864, 0.963324]\n",
      " --- Iteration over ALM coefficient: 42 ---"
     ]
    },
    {
     "name": "stderr",
     "output_type": "stream",
     "text": [
      "\r",
      "\u001b[32msimulating aggregate path ...100%|██████████████████████| Time: 0:00:02\u001b[39m\n"
     ]
    },
    {
     "name": "stdout",
     "output_type": "stream",
     "text": [
      "\n"
     ]
    },
    {
     "name": "stderr",
     "output_type": "stream",
     "text": [
      "\u001b[32mSolving individual UMP by Euler method:  Time: 0:00:10 (429 iterations)\u001b[39m8)\u001b[39m\n",
      "\u001b[32msimulating aggregate path ... 73%|█████████████████     |  ETA: 0:00:01\u001b[39m"
     ]
    },
    {
     "name": "stdout",
     "output_type": "stream",
     "text": [
      "difference of ALM coefficient is 1.1481971272403468e-5 and B = [0.146862, 0.960942, 0.132867, 0.963323]\n",
      " --- Iteration over ALM coefficient: 43 ---\n"
     ]
    },
    {
     "name": "stderr",
     "output_type": "stream",
     "text": [
      "\u001b[32msimulating aggregate path ...100%|██████████████████████| Time: 0:00:02\u001b[39m\n",
      "\u001b[32mSolving individual UMP by Euler method:  Time: 0:00:09 (414 iterations)\u001b[39m8)\u001b[39m\n",
      "\u001b[32msimulating aggregate path ... 74%|█████████████████     |  ETA: 0:00:01\u001b[39m"
     ]
    },
    {
     "name": "stdout",
     "output_type": "stream",
     "text": [
      "difference of ALM coefficient is 1.0394878791397666e-5 and B = [0.146863, 0.960942, 0.132869, 0.963323]\n",
      " --- Iteration over ALM coefficient: 44 ---\n"
     ]
    },
    {
     "name": "stderr",
     "output_type": "stream",
     "text": [
      "\u001b[32msimulating aggregate path ...100%|██████████████████████| Time: 0:00:02\u001b[39m\n",
      "\u001b[32mSolving individual UMP by Euler method:  Time: 0:00:09 (400 iterations)\u001b[39m8)\u001b[39m\n",
      "\u001b[32msimulating aggregate path ... 73%|█████████████████     |  ETA: 0:00:01\u001b[39m"
     ]
    },
    {
     "name": "stdout",
     "output_type": "stream",
     "text": [
      "difference of ALM coefficient is 9.412208783921017e-6 and B = [0.146864, 0.960942, 0.132871, 0.963322]\n",
      " --- Iteration over ALM coefficient: 45 ---\n"
     ]
    },
    {
     "name": "stderr",
     "output_type": "stream",
     "text": [
      "\u001b[32msimulating aggregate path ...100%|██████████████████████| Time: 0:00:02\u001b[39m\n",
      "\u001b[32mSolving individual UMP by Euler method:  Time: 0:00:09 (385 iterations)\u001b[39m8)\u001b[39m\n",
      "\u001b[32msimulating aggregate path ... 72%|████████████████      |  ETA: 0:00:01\u001b[39m"
     ]
    },
    {
     "name": "stdout",
     "output_type": "stream",
     "text": [
      "difference of ALM coefficient is 8.523977039931463e-6 and B = [0.146865, 0.960941, 0.132873, 0.963322]\n",
      " --- Iteration over ALM coefficient: 46 ---"
     ]
    },
    {
     "name": "stderr",
     "output_type": "stream",
     "text": [
      "\r",
      "\u001b[32msimulating aggregate path ... 96%|██████████████████████|  ETA: 0:00:00\u001b[39m\r",
      "\u001b[32msimulating aggregate path ...100%|██████████████████████| Time: 0:00:02\u001b[39m\n"
     ]
    },
    {
     "name": "stdout",
     "output_type": "stream",
     "text": [
      "\n"
     ]
    },
    {
     "name": "stderr",
     "output_type": "stream",
     "text": [
      "\u001b[32mSolving individual UMP by Euler method:  Time: 0:00:09 (371 iterations)\u001b[39m8)\u001b[39m\n",
      "\u001b[32msimulating aggregate path ... 73%|█████████████████     |  ETA: 0:00:01\u001b[39m"
     ]
    },
    {
     "name": "stdout",
     "output_type": "stream",
     "text": [
      "difference of ALM coefficient is 7.72064266219008e-6 and B = [0.146866, 0.960941, 0.132875, 0.963321]\n",
      " --- Iteration over ALM coefficient: 47 ---\n"
     ]
    },
    {
     "name": "stderr",
     "output_type": "stream",
     "text": [
      "\u001b[32msimulating aggregate path ...100%|██████████████████████| Time: 0:00:02\u001b[39m\n",
      "\u001b[32mSolving individual UMP by Euler method:  Time: 0:00:08 (357 iterations)\u001b[39m8)\u001b[39m\n",
      "\u001b[32msimulating aggregate path ... 76%|█████████████████     |  ETA: 0:00:01\u001b[39m"
     ]
    },
    {
     "name": "stdout",
     "output_type": "stream",
     "text": [
      "difference of ALM coefficient is 6.994028114354345e-6 and B = [0.146867, 0.960941, 0.132877, 0.963321]\n",
      " --- Iteration over ALM coefficient: 48 ---\n"
     ]
    },
    {
     "name": "stderr",
     "output_type": "stream",
     "text": [
      "\u001b[32msimulating aggregate path ...100%|██████████████████████| Time: 0:00:02\u001b[39m\n",
      "\u001b[32mSolving individual UMP by Euler method:  Time: 0:00:08 (344 iterations)\u001b[39m8)\u001b[39m\n",
      "\u001b[32msimulating aggregate path ... 75%|█████████████████     |  ETA: 0:00:01\u001b[39m"
     ]
    },
    {
     "name": "stdout",
     "output_type": "stream",
     "text": [
      "difference of ALM coefficient is 6.336323091604701e-6 and B = [0.146867, 0.960941, 0.132878, 0.96332]\n",
      " --- Iteration over ALM coefficient: 49 ---\n"
     ]
    },
    {
     "name": "stderr",
     "output_type": "stream",
     "text": [
      "\u001b[32msimulating aggregate path ...100%|██████████████████████| Time: 0:00:02\u001b[39m\n",
      "\u001b[32mSolving individual UMP by Euler method:  Time: 0:00:08 (330 iterations)\u001b[39m8)\u001b[39m\n",
      "\u001b[32msimulating aggregate path ... 72%|████████████████      |  ETA: 0:00:01\u001b[39m"
     ]
    },
    {
     "name": "stdout",
     "output_type": "stream",
     "text": [
      "difference of ALM coefficient is 5.741289606842059e-6 and B = [0.146868, 0.960941, 0.132879, 0.96332]\n",
      " --- Iteration over ALM coefficient: 50 ---\n"
     ]
    },
    {
     "name": "stderr",
     "output_type": "stream",
     "text": [
      "\u001b[32msimulating aggregate path ...100%|██████████████████████| Time: 0:00:02\u001b[39m\n",
      "\u001b[32mSolving individual UMP by Euler method:  Time: 0:00:07 (316 iterations)\u001b[39m8)\u001b[39m\n",
      "\u001b[32msimulating aggregate path ...100%|██████████████████████| Time: 0:00:02\u001b[39m\n"
     ]
    },
    {
     "name": "stdout",
     "output_type": "stream",
     "text": [
      "difference of ALM coefficient is 5.20255477609588e-6 and B = [0.146869, 0.96094, 0.132881, 0.96332]\n",
      " --- Iteration over ALM coefficient: 51 ---\n"
     ]
    },
    {
     "name": "stderr",
     "output_type": "stream",
     "text": [
      "\u001b[32mSolving individual UMP by Euler method:  Time: 0:00:07 (303 iterations)\u001b[39m8)\u001b[39m\n",
      "\u001b[32msimulating aggregate path ... 75%|█████████████████     |  ETA: 0:00:01\u001b[39m"
     ]
    },
    {
     "name": "stdout",
     "output_type": "stream",
     "text": [
      "difference of ALM coefficient is 4.714489223428542e-6 and B = [0.146869, 0.96094, 0.132882, 0.963319]\n",
      " --- Iteration over ALM coefficient: 52 ---\n"
     ]
    },
    {
     "name": "stderr",
     "output_type": "stream",
     "text": [
      "\u001b[32msimulating aggregate path ...100%|██████████████████████| Time: 0:00:02\u001b[39m\n",
      "\u001b[32mSolving individual UMP by Euler method:  Time: 0:00:07 (290 iterations)\u001b[39m8)\u001b[39m\n",
      "\u001b[32msimulating aggregate path ... 74%|█████████████████     |  ETA: 0:00:01\u001b[39m"
     ]
    },
    {
     "name": "stdout",
     "output_type": "stream",
     "text": [
      "difference of ALM coefficient is 4.272670644511756e-6 and B = [0.14687, 0.96094, 0.132883, 0.963319]\n",
      " --- Iteration over ALM coefficient: 53 ---\n"
     ]
    },
    {
     "name": "stderr",
     "output_type": "stream",
     "text": [
      "\u001b[32msimulating aggregate path ...100%|██████████████████████| Time: 0:00:02\u001b[39m\n",
      "\u001b[32mSolving individual UMP by Euler method:  Time: 0:00:06 (277 iterations)\u001b[39m8)\u001b[39m\n",
      "\u001b[32msimulating aggregate path ... 73%|█████████████████     |  ETA: 0:00:01\u001b[39m"
     ]
    },
    {
     "name": "stdout",
     "output_type": "stream",
     "text": [
      "difference of ALM coefficient is 3.8725663447647385e-6 and B = [0.14687, 0.96094, 0.132883, 0.963319]\n",
      " --- Iteration over ALM coefficient: 54 ---\n"
     ]
    },
    {
     "name": "stderr",
     "output_type": "stream",
     "text": [
      "\u001b[32msimulating aggregate path ...100%|██████████████████████| Time: 0:00:02\u001b[39m\n",
      "\u001b[32mSolving individual UMP by Euler method:  Time: 0:00:06 (264 iterations)\u001b[39m8)\u001b[39m\n",
      "\u001b[32msimulating aggregate path ... 72%|████████████████      |  ETA: 0:00:01\u001b[39m"
     ]
    },
    {
     "name": "stdout",
     "output_type": "stream",
     "text": [
      "difference of ALM coefficient is 3.5099821105444295e-6 and B = [0.14687, 0.96094, 0.132884, 0.963319]\n",
      " --- Iteration over ALM coefficient: 55 ---\n"
     ]
    },
    {
     "name": "stderr",
     "output_type": "stream",
     "text": [
      "\u001b[32msimulating aggregate path ...100%|██████████████████████| Time: 0:00:02\u001b[39m\n",
      "\u001b[32mSolving individual UMP by Euler method:  Time: 0:00:06 (252 iterations)\u001b[39m8)\u001b[39m\n",
      "\u001b[32msimulating aggregate path ... 75%|█████████████████     |  ETA: 0:00:01\u001b[39m"
     ]
    },
    {
     "name": "stdout",
     "output_type": "stream",
     "text": [
      "difference of ALM coefficient is 3.1813702160432555e-6 and B = [0.146871, 0.96094, 0.132885, 0.963318]\n",
      " --- Iteration over ALM coefficient: 56 ---\n"
     ]
    },
    {
     "name": "stderr",
     "output_type": "stream",
     "text": [
      "\u001b[32msimulating aggregate path ...100%|██████████████████████| Time: 0:00:02\u001b[39m\n",
      "\u001b[32mSolving individual UMP by Euler method:  Time: 0:00:05 (239 iterations)\u001b[39m8)\u001b[39m\n",
      "\u001b[32msimulating aggregate path ... 94%|█████████████████████ |  ETA: 0:00:00\u001b[39m"
     ]
    },
    {
     "name": "stdout",
     "output_type": "stream",
     "text": [
      "difference of ALM coefficient is 2.884014287607428e-6 and B = [0.146871, 0.96094, 0.132886, 0.963318]\n",
      " --- Iteration over ALM coefficient: 57 ---\n"
     ]
    },
    {
     "name": "stderr",
     "output_type": "stream",
     "text": [
      "\u001b[32msimulating aggregate path ...100%|██████████████████████| Time: 0:00:02\u001b[39m\n",
      "\u001b[32mSolving individual UMP by Euler method:  Time: 0:00:05 (228 iterations)\u001b[39m)\u001b[39mm\n",
      "\u001b[32msimulating aggregate path ... 75%|█████████████████     |  ETA: 0:00:01\u001b[39m"
     ]
    },
    {
     "name": "stdout",
     "output_type": "stream",
     "text": [
      "difference of ALM coefficient is 2.613897075925964e-6 and B = [0.146871, 0.96094, 0.132886, 0.963318]\n",
      " --- Iteration over ALM coefficient: 58 ---\n"
     ]
    },
    {
     "name": "stderr",
     "output_type": "stream",
     "text": [
      "\u001b[32msimulating aggregate path ...100%|██████████████████████| Time: 0:00:02\u001b[39m\n",
      "\u001b[32mSolving individual UMP by Euler method:  Time: 0:00:05 (216 iterations)\u001b[39m8)\u001b[39m\n",
      "\u001b[32msimulating aggregate path ... 74%|█████████████████     |  ETA: 0:00:01\u001b[39m"
     ]
    },
    {
     "name": "stdout",
     "output_type": "stream",
     "text": [
      "difference of ALM coefficient is 2.3698285921691653e-6 and B = [0.146872, 0.96094, 0.132887, 0.963318]\n",
      " --- Iteration over ALM coefficient: 59 ---\n"
     ]
    },
    {
     "name": "stderr",
     "output_type": "stream",
     "text": [
      "\u001b[32msimulating aggregate path ...100%|██████████████████████| Time: 0:00:02\u001b[39m\n",
      "\u001b[32mSolving individual UMP by Euler method:  Time: 0:00:05 (204 iterations)\u001b[39m8)\u001b[39m\n",
      "\u001b[32msimulating aggregate path ... 74%|█████████████████     |  ETA: 0:00:01\u001b[39m"
     ]
    },
    {
     "name": "stdout",
     "output_type": "stream",
     "text": [
      "difference of ALM coefficient is 2.1483925622678424e-6 and B = [0.146872, 0.96094, 0.132887, 0.963318]\n",
      " --- Iteration over ALM coefficient: 60 ---\n"
     ]
    },
    {
     "name": "stderr",
     "output_type": "stream",
     "text": [
      "\u001b[32msimulating aggregate path ...100%|██████████████████████| Time: 0:00:02\u001b[39m\n",
      "\u001b[32mSolving individual UMP by Euler method:  Time: 0:00:04 (193 iterations)\u001b[39m8)\u001b[39m\n",
      "\u001b[32msimulating aggregate path ... 75%|█████████████████     |  ETA: 0:00:01\u001b[39m"
     ]
    },
    {
     "name": "stdout",
     "output_type": "stream",
     "text": [
      "difference of ALM coefficient is 1.947404442897982e-6 and B = [0.146872, 0.96094, 0.132888, 0.963318]\n",
      " --- Iteration over ALM coefficient: 61 ---\n"
     ]
    },
    {
     "name": "stderr",
     "output_type": "stream",
     "text": [
      "\u001b[32msimulating aggregate path ...100%|██████████████████████| Time: 0:00:02\u001b[39m\n",
      "\u001b[32mSolving individual UMP by Euler method:  Time: 0:00:04 (182 iterations)\u001b[39m8)\u001b[39m\n",
      "\u001b[32msimulating aggregate path ... 96%|██████████████████████|  ETA: 0:00:00\u001b[39m"
     ]
    },
    {
     "name": "stdout",
     "output_type": "stream",
     "text": [
      "difference of ALM coefficient is 1.7653895722224977e-6 and B = [0.146872, 0.96094, 0.132888, 0.963318]\n",
      " --- Iteration over ALM coefficient: 62 ---\n"
     ]
    },
    {
     "name": "stderr",
     "output_type": "stream",
     "text": [
      "\u001b[32msimulating aggregate path ...100%|██████████████████████| Time: 0:00:02\u001b[39m\n",
      "\u001b[32mSolving individual UMP by Euler method:  Time: 0:00:04 (172 iterations)\u001b[39m8)\u001b[39m\n",
      "\u001b[32msimulating aggregate path ... 76%|█████████████████     |  ETA: 0:00:01\u001b[39m"
     ]
    },
    {
     "name": "stdout",
     "output_type": "stream",
     "text": [
      "difference of ALM coefficient is 1.6003569559552844e-6 and B = [0.146873, 0.960939, 0.132888, 0.963318]\n",
      " --- Iteration over ALM coefficient: 63 ---\n"
     ]
    },
    {
     "name": "stderr",
     "output_type": "stream",
     "text": [
      "\u001b[32msimulating aggregate path ...100%|██████████████████████| Time: 0:00:02\u001b[39m\n",
      "\u001b[32mSolving individual UMP by Euler method:  Time: 0:00:04 (161 iterations)\u001b[39m8)\u001b[39m\n",
      "\u001b[32msimulating aggregate path ... 93%|█████████████████████ |  ETA: 0:00:00\u001b[39m"
     ]
    },
    {
     "name": "stdout",
     "output_type": "stream",
     "text": [
      "difference of ALM coefficient is 1.4512411514178147e-6 and B = [0.146873, 0.960939, 0.132889, 0.963317]\n",
      " --- Iteration over ALM coefficient: 64 ---"
     ]
    },
    {
     "name": "stderr",
     "output_type": "stream",
     "text": [
      "\r",
      "\u001b[32msimulating aggregate path ...100%|██████████████████████| Time: 0:00:02\u001b[39m\n"
     ]
    },
    {
     "name": "stdout",
     "output_type": "stream",
     "text": [
      "\n"
     ]
    },
    {
     "name": "stderr",
     "output_type": "stream",
     "text": [
      "\u001b[32mSolving individual UMP by Euler method:  Time: 0:00:03 (151 iterations)\u001b[39m8)\u001b[39m\n",
      "\u001b[32msimulating aggregate path ... 74%|█████████████████     |  ETA: 0:00:01\u001b[39m"
     ]
    },
    {
     "name": "stdout",
     "output_type": "stream",
     "text": [
      "difference of ALM coefficient is 1.3154069426757342e-6 and B = [0.146873, 0.960939, 0.132889, 0.963317]\n",
      " --- Iteration over ALM coefficient: 65 ---\n"
     ]
    },
    {
     "name": "stderr",
     "output_type": "stream",
     "text": [
      "\u001b[32msimulating aggregate path ...100%|██████████████████████| Time: 0:00:02\u001b[39m\n",
      "\u001b[32mSolving individual UMP by Euler method:  Time: 0:00:03 (142 iterations)\u001b[39m8)\u001b[39m\n",
      "\u001b[32msimulating aggregate path ... 73%|████████████████      |  ETA: 0:00:01\u001b[39m"
     ]
    },
    {
     "name": "stdout",
     "output_type": "stream",
     "text": [
      "difference of ALM coefficient is 1.1924123506645845e-6 and B = [0.146873, 0.960939, 0.132889, 0.963317]\n",
      " --- Iteration over ALM coefficient: 66 ---\n"
     ]
    },
    {
     "name": "stderr",
     "output_type": "stream",
     "text": [
      "\u001b[32msimulating aggregate path ...100%|██████████████████████| Time: 0:00:02\u001b[39m\n",
      "\u001b[32mSolving individual UMP by Euler method:  Time: 0:00:03 (132 iterations)\u001b[39m8)\u001b[39m\n",
      "\u001b[32msimulating aggregate path ... 74%|█████████████████     |  ETA: 0:00:01\u001b[39m"
     ]
    },
    {
     "name": "stdout",
     "output_type": "stream",
     "text": [
      "difference of ALM coefficient is 1.0814044617279972e-6 and B = [0.146873, 0.960939, 0.13289, 0.963317]\n",
      " --- Iteration over ALM coefficient: 67 ---\n"
     ]
    },
    {
     "name": "stderr",
     "output_type": "stream",
     "text": [
      "\u001b[32msimulating aggregate path ...100%|██████████████████████| Time: 0:00:02\u001b[39m\n",
      "\u001b[32mSolving individual UMP by Euler method:  Time: 0:00:03 (123 iterations)\u001b[39m8)\u001b[39m\n",
      "\u001b[32msimulating aggregate path ... 73%|████████████████      |  ETA: 0:00:01\u001b[39m"
     ]
    },
    {
     "name": "stdout",
     "output_type": "stream",
     "text": [
      "difference of ALM coefficient is 9.802967592675849e-7 and B = [0.146873, 0.960939, 0.13289, 0.963317]\n",
      " --- Iteration over ALM coefficient: 68 ---\n"
     ]
    },
    {
     "name": "stderr",
     "output_type": "stream",
     "text": [
      "\u001b[32msimulating aggregate path ...100%|██████████████████████| Time: 0:00:02\u001b[39m\n",
      "\u001b[32mSolving individual UMP by Euler method:  Time: 0:00:03 (115 iterations)\u001b[39m8)\u001b[39m\n",
      "\u001b[32msimulating aggregate path ... 74%|█████████████████     |  ETA: 0:00:01\u001b[39m"
     ]
    },
    {
     "name": "stdout",
     "output_type": "stream",
     "text": [
      "difference of ALM coefficient is 8.885985442186328e-7 and B = [0.146873, 0.960939, 0.13289, 0.963317]\n",
      " --- Iteration over ALM coefficient: 69 ---\n"
     ]
    },
    {
     "name": "stderr",
     "output_type": "stream",
     "text": [
      "\u001b[32msimulating aggregate path ...100%|██████████████████████| Time: 0:00:02\u001b[39m\n",
      "\u001b[32mSolving individual UMP by Euler method:  Time: 0:00:02 (106 iterations)\u001b[39m8)\u001b[39m\n",
      "\u001b[32msimulating aggregate path ... 73%|█████████████████     |  ETA: 0:00:01\u001b[39m"
     ]
    },
    {
     "name": "stdout",
     "output_type": "stream",
     "text": [
      "difference of ALM coefficient is 8.059627235879052e-7 and B = [0.146873, 0.960939, 0.13289, 0.963317]\n",
      " --- Iteration over ALM coefficient: 70 ---\n"
     ]
    },
    {
     "name": "stderr",
     "output_type": "stream",
     "text": [
      "\u001b[32msimulating aggregate path ...100%|██████████████████████| Time: 0:00:02\u001b[39m\n",
      "\u001b[32mSolving individual UMP by Euler method:  Time: 0:00:02 (98 iterations)\u001b[39m08)\u001b[39m\n",
      "\u001b[32msimulating aggregate path ... 74%|█████████████████     |  ETA: 0:00:01\u001b[39m"
     ]
    },
    {
     "name": "stdout",
     "output_type": "stream",
     "text": [
      "difference of ALM coefficient is 7.306925396410868e-7 and B = [0.146873, 0.960939, 0.13289, 0.963317]\n",
      " --- Iteration over ALM coefficient: 71 ---\n"
     ]
    },
    {
     "name": "stderr",
     "output_type": "stream",
     "text": [
      "\u001b[32msimulating aggregate path ...100%|██████████████████████| Time: 0:00:02\u001b[39m\n",
      "\u001b[32mSolving individual UMP by Euler method:  Time: 0:00:02 (91 iterations)\u001b[39m08)\u001b[39m\n",
      "\u001b[32msimulating aggregate path ... 73%|█████████████████     |  ETA: 0:00:01\u001b[39m"
     ]
    },
    {
     "name": "stdout",
     "output_type": "stream",
     "text": [
      "difference of ALM coefficient is 6.623617018197692e-7 and B = [0.146874, 0.960939, 0.132891, 0.963317]\n",
      " --- Iteration over ALM coefficient: 72 ---\n"
     ]
    },
    {
     "name": "stderr",
     "output_type": "stream",
     "text": [
      "\u001b[32msimulating aggregate path ...100%|██████████████████████| Time: 0:00:02\u001b[39m\n",
      "\u001b[32mSolving individual UMP by Euler method:  Time: 0:00:02 (83 iterations)\u001b[39m08)\u001b[39m\n",
      "\u001b[32msimulating aggregate path ... 72%|████████████████      |  ETA: 0:00:01\u001b[39m"
     ]
    },
    {
     "name": "stdout",
     "output_type": "stream",
     "text": [
      "difference of ALM coefficient is 6.010190553018546e-7 and B = [0.146874, 0.960939, 0.132891, 0.963317]\n",
      " --- Iteration over ALM coefficient: 73 ---\n"
     ]
    },
    {
     "name": "stderr",
     "output_type": "stream",
     "text": [
      "\u001b[32msimulating aggregate path ...100%|██████████████████████| Time: 0:00:02\u001b[39m\n",
      "\u001b[32mSolving individual UMP by Euler method:  Time: 0:00:02 (77 iterations)\u001b[39m8)\u001b[39mm\n",
      "\u001b[32msimulating aggregate path ... 74%|█████████████████     |  ETA: 0:00:01\u001b[39m"
     ]
    },
    {
     "name": "stdout",
     "output_type": "stream",
     "text": [
      "difference of ALM coefficient is 5.445665013925627e-7 and B = [0.146874, 0.960939, 0.132891, 0.963317]\n",
      " --- Iteration over ALM coefficient: 74 ---\n"
     ]
    },
    {
     "name": "stderr",
     "output_type": "stream",
     "text": [
      "\u001b[32msimulating aggregate path ...100%|██████████████████████| Time: 0:00:02\u001b[39m\n",
      "\u001b[32mSolving individual UMP by Euler method:  Time: 0:00:02 (70 iterations)\u001b[39m08)\u001b[39m\n",
      "\u001b[32msimulating aggregate path ... 73%|█████████████████     |  ETA: 0:00:01\u001b[39m"
     ]
    },
    {
     "name": "stdout",
     "output_type": "stream",
     "text": [
      "difference of ALM coefficient is 4.942435950783253e-7 and B = [0.146874, 0.960939, 0.132891, 0.963317]\n",
      " --- Iteration over ALM coefficient: 75 ---\n"
     ]
    },
    {
     "name": "stderr",
     "output_type": "stream",
     "text": [
      "\u001b[32msimulating aggregate path ...100%|██████████████████████| Time: 0:00:02\u001b[39m\n",
      "\u001b[32mSolving individual UMP by Euler method:  Time: 0:00:02 (65 iterations)\u001b[39m08)\u001b[39m\n",
      "\u001b[32msimulating aggregate path ... 79%|██████████████████    |  ETA: 0:00:01\u001b[39m"
     ]
    },
    {
     "name": "stdout",
     "output_type": "stream",
     "text": [
      "difference of ALM coefficient is 4.477099435074017e-7 and B = [0.146874, 0.960939, 0.132891, 0.963317]\n",
      " --- Iteration over ALM coefficient: 76 ---\n"
     ]
    },
    {
     "name": "stderr",
     "output_type": "stream",
     "text": [
      "\u001b[32msimulating aggregate path ...100%|██████████████████████| Time: 0:00:03\u001b[39m\n",
      "\u001b[32mSolving individual UMP by Euler method:  Time: 0:00:01 (59 iterations)\u001b[39m08)\u001b[39m\n",
      "\u001b[32msimulating aggregate path ... 75%|█████████████████     |  ETA: 0:00:01\u001b[39m"
     ]
    },
    {
     "name": "stdout",
     "output_type": "stream",
     "text": [
      "difference of ALM coefficient is 4.0644643303777706e-7 and B = [0.146874, 0.960939, 0.132891, 0.963317]\n",
      " --- Iteration over ALM coefficient: 77 ---\n"
     ]
    },
    {
     "name": "stderr",
     "output_type": "stream",
     "text": [
      "\u001b[32msimulating aggregate path ...100%|██████████████████████| Time: 0:00:02\u001b[39m\n",
      "\u001b[32mSolving individual UMP by Euler method:  Time: 0:00:01 (55 iterations)\u001b[39m08)\u001b[39m\n",
      "\u001b[32msimulating aggregate path ... 73%|█████████████████     |  ETA: 0:00:01\u001b[39m"
     ]
    },
    {
     "name": "stdout",
     "output_type": "stream",
     "text": [
      "difference of ALM coefficient is 3.6810898323969e-7 and B = [0.146874, 0.960939, 0.132891, 0.963317]\n",
      " --- Iteration over ALM coefficient: 78 ---\n"
     ]
    },
    {
     "name": "stderr",
     "output_type": "stream",
     "text": [
      "\u001b[32msimulating aggregate path ...100%|██████████████████████| Time: 0:00:02\u001b[39m\n",
      "\u001b[32mSolving individual UMP by Euler method:  Time: 0:00:01 (50 iterations)\u001b[39m08)\u001b[39m\n",
      "\u001b[32msimulating aggregate path ... 74%|█████████████████     |  ETA: 0:00:01\u001b[39m"
     ]
    },
    {
     "name": "stdout",
     "output_type": "stream",
     "text": [
      "difference of ALM coefficient is 3.342283573515292e-7 and B = [0.146874, 0.960939, 0.132891, 0.963317]\n",
      " --- Iteration over ALM coefficient: 79 ---\n"
     ]
    },
    {
     "name": "stderr",
     "output_type": "stream",
     "text": [
      "\u001b[32msimulating aggregate path ...100%|██████████████████████| Time: 0:00:02\u001b[39m\n",
      "\u001b[32mSolving individual UMP by Euler method:  Time: 0:00:01 (47 iterations)\u001b[39m08)\u001b[39m\n",
      "\u001b[32msimulating aggregate path ... 74%|█████████████████     |  ETA: 0:00:01\u001b[39m"
     ]
    },
    {
     "name": "stdout",
     "output_type": "stream",
     "text": [
      "difference of ALM coefficient is 3.024636119897117e-7 and B = [0.146874, 0.960939, 0.132891, 0.963317]\n",
      " --- Iteration over ALM coefficient: 80 ---\n"
     ]
    },
    {
     "name": "stderr",
     "output_type": "stream",
     "text": [
      "\u001b[32msimulating aggregate path ...100%|██████████████████████| Time: 0:00:02\u001b[39m\n",
      "\u001b[32mSolving individual UMP by Euler method:  Time: 0:00:01 (44 iterations)\u001b[39m8)\u001b[39mm\n",
      "\u001b[32msimulating aggregate path ... 73%|████████████████      |  ETA: 0:00:01\u001b[39m"
     ]
    },
    {
     "name": "stdout",
     "output_type": "stream",
     "text": [
      "difference of ALM coefficient is 2.7407118780020667e-7 and B = [0.146874, 0.960939, 0.132891, 0.963317]\n",
      " --- Iteration over ALM coefficient: 81 ---\n"
     ]
    },
    {
     "name": "stderr",
     "output_type": "stream",
     "text": [
      "\u001b[32msimulating aggregate path ...100%|██████████████████████| Time: 0:00:02\u001b[39m\n",
      "\u001b[32mSolving individual UMP by Euler method:  Time: 0:00:01 (41 iterations)\u001b[39m08)\u001b[39m\n",
      "\u001b[32msimulating aggregate path ... 71%|████████████████      |  ETA: 0:00:01\u001b[39m"
     ]
    },
    {
     "name": "stdout",
     "output_type": "stream",
     "text": [
      "difference of ALM coefficient is 2.485447657130102e-7 and B = [0.146874, 0.960939, 0.132891, 0.963317]\n",
      " --- Iteration over ALM coefficient: 82 ---\n"
     ]
    },
    {
     "name": "stderr",
     "output_type": "stream",
     "text": [
      "\u001b[32msimulating aggregate path ...100%|██████████████████████| Time: 0:00:02\u001b[39m\n",
      "\u001b[32mSolving individual UMP by Euler method:  Time: 0:00:01 (39 iterations)\u001b[39m08)\u001b[39m\n",
      "\u001b[32msimulating aggregate path ... 72%|████████████████      |  ETA: 0:00:01\u001b[39m"
     ]
    },
    {
     "name": "stdout",
     "output_type": "stream",
     "text": [
      "difference of ALM coefficient is 2.250508124301831e-7 and B = [0.146874, 0.960939, 0.132891, 0.963317]\n",
      " --- Iteration over ALM coefficient: 83 ---\n"
     ]
    },
    {
     "name": "stderr",
     "output_type": "stream",
     "text": [
      "\u001b[32msimulating aggregate path ...100%|██████████████████████| Time: 0:00:02\u001b[39m\n",
      "\u001b[32mSolving individual UMP by Euler method:  Time: 0:00:01 (37 iterations)\u001b[39m08)\u001b[39m\n",
      "\u001b[32msimulating aggregate path ... 95%|█████████████████████ |  ETA: 0:00:00\u001b[39m"
     ]
    },
    {
     "name": "stdout",
     "output_type": "stream",
     "text": [
      "difference of ALM coefficient is 2.0398252301156994e-7 and B = [0.146874, 0.960939, 0.132892, 0.963317]\n",
      " --- Iteration over ALM coefficient: 84 ---\n"
     ]
    },
    {
     "name": "stderr",
     "output_type": "stream",
     "text": [
      "\u001b[32msimulating aggregate path ...100%|██████████████████████| Time: 0:00:02\u001b[39m\n",
      "\u001b[32mSolving individual UMP by Euler method:  Time: 0:00:01 (35 iterations)\u001b[39m8)\u001b[39mm\n",
      "\u001b[32msimulating aggregate path ... 74%|█████████████████     |  ETA: 0:00:01\u001b[39m"
     ]
    },
    {
     "name": "stdout",
     "output_type": "stream",
     "text": [
      "difference of ALM coefficient is 1.8501803553117036e-7 and B = [0.146874, 0.960939, 0.132892, 0.963317]\n",
      " --- Iteration over ALM coefficient: 85 ---\n"
     ]
    },
    {
     "name": "stderr",
     "output_type": "stream",
     "text": [
      "\u001b[32msimulating aggregate path ...100%|██████████████████████| Time: 0:00:02\u001b[39m\n",
      "\u001b[32mSolving individual UMP by Euler method:  Time: 0:00:01 (33 iterations)\u001b[39m8)\u001b[39mm\n",
      "\u001b[32msimulating aggregate path ... 74%|█████████████████     |  ETA: 0:00:01\u001b[39m"
     ]
    },
    {
     "name": "stdout",
     "output_type": "stream",
     "text": [
      "difference of ALM coefficient is 1.6791167115060013e-7 and B = [0.146874, 0.960939, 0.132892, 0.963317]\n",
      " --- Iteration over ALM coefficient: 86 ---\n"
     ]
    },
    {
     "name": "stderr",
     "output_type": "stream",
     "text": [
      "\u001b[32msimulating aggregate path ...100%|██████████████████████| Time: 0:00:02\u001b[39m\n",
      "\u001b[32mSolving individual UMP by Euler method:  Time: 0:00:01 (32 iterations)\u001b[39m08)\u001b[39m\n",
      "\u001b[32msimulating aggregate path ... 72%|████████████████      |  ETA: 0:00:01\u001b[39m"
     ]
    },
    {
     "name": "stdout",
     "output_type": "stream",
     "text": [
      "difference of ALM coefficient is 1.51750390336991e-7 and B = [0.146874, 0.960939, 0.132892, 0.963317]\n",
      " --- Iteration over ALM coefficient: 87 ---\n"
     ]
    },
    {
     "name": "stderr",
     "output_type": "stream",
     "text": [
      "\u001b[32msimulating aggregate path ...100%|██████████████████████| Time: 0:00:02\u001b[39m\n",
      "\u001b[32mSolving individual UMP by Euler method:  Time: 0:00:01 (30 iterations)\u001b[39m08)\u001b[39m\n",
      "\u001b[32msimulating aggregate path ... 75%|█████████████████     |  ETA: 0:00:01\u001b[39m"
     ]
    },
    {
     "name": "stdout",
     "output_type": "stream",
     "text": [
      "difference of ALM coefficient is 1.3786970365359252e-7 and B = [0.146874, 0.960939, 0.132892, 0.963317]\n",
      " --- Iteration over ALM coefficient: 88 ---\n"
     ]
    },
    {
     "name": "stderr",
     "output_type": "stream",
     "text": [
      "\u001b[32msimulating aggregate path ...100%|██████████████████████| Time: 0:00:02\u001b[39m\n",
      "\u001b[32mSolving individual UMP by Euler method:  Time: 0:00:01 (28 iterations)\u001b[39m8)\u001b[39mm\n",
      "\u001b[32msimulating aggregate path ... 75%|█████████████████     |  ETA: 0:00:01\u001b[39m"
     ]
    },
    {
     "name": "stdout",
     "output_type": "stream",
     "text": [
      "difference of ALM coefficient is 1.2521602682502575e-7 and B = [0.146874, 0.960939, 0.132892, 0.963317]\n",
      " --- Iteration over ALM coefficient: 89 ---\n"
     ]
    },
    {
     "name": "stderr",
     "output_type": "stream",
     "text": [
      "\u001b[32msimulating aggregate path ...100%|██████████████████████| Time: 0:00:02\u001b[39m\n",
      "\u001b[32mSolving individual UMP by Euler method:  Time: 0:00:01 (27 iterations)\u001b[39m08)\u001b[39m\n",
      "\u001b[32msimulating aggregate path ... 72%|████████████████      |  ETA: 0:00:01\u001b[39m"
     ]
    },
    {
     "name": "stdout",
     "output_type": "stream",
     "text": [
      "difference of ALM coefficient is 1.1326223903207477e-7 and B = [0.146874, 0.960939, 0.132892, 0.963317]\n",
      " --- Iteration over ALM coefficient: 90 ---\n"
     ]
    },
    {
     "name": "stderr",
     "output_type": "stream",
     "text": [
      "\u001b[32msimulating aggregate path ...100%|██████████████████████| Time: 0:00:02\u001b[39m\n",
      "\u001b[32mSolving individual UMP by Euler method:  Time: 0:00:01 (25 iterations)\u001b[39m08)\u001b[39m\n",
      "\u001b[32msimulating aggregate path ... 72%|████████████████      |  ETA: 0:00:01\u001b[39m"
     ]
    },
    {
     "name": "stdout",
     "output_type": "stream",
     "text": [
      "difference of ALM coefficient is 1.0293103455683017e-7 and B = [0.146874, 0.960939, 0.132892, 0.963317]\n",
      " --- Iteration over ALM coefficient: 91 ---\n"
     ]
    },
    {
     "name": "stderr",
     "output_type": "stream",
     "text": [
      "\u001b[32msimulating aggregate path ...100%|██████████████████████| Time: 0:00:02\u001b[39m\n",
      "\u001b[32mSolving individual UMP by Euler method:  Time: 0:00:01 (24 iterations)\u001b[39m08)\u001b[39m\n",
      "\u001b[32msimulating aggregate path ... 75%|█████████████████     |  ETA: 0:00:01\u001b[39m"
     ]
    },
    {
     "name": "stdout",
     "output_type": "stream",
     "text": [
      "difference of ALM coefficient is 9.30346010230565e-8 and B = [0.146874, 0.960939, 0.132892, 0.963317]\n",
      " --- Iteration over ALM coefficient: 92 ---\n"
     ]
    },
    {
     "name": "stderr",
     "output_type": "stream",
     "text": [
      "\u001b[32msimulating aggregate path ...100%|██████████████████████| Time: 0:00:02\u001b[39m\n",
      "\u001b[32mSolving individual UMP by Euler method:  Time: 0:00:01 (22 iterations)\u001b[39m08)\u001b[39m\n",
      "\u001b[32msimulating aggregate path ... 72%|████████████████      |  ETA: 0:00:01\u001b[39m"
     ]
    },
    {
     "name": "stdout",
     "output_type": "stream",
     "text": [
      "difference of ALM coefficient is 8.464245168648965e-8 and B = [0.146874, 0.960939, 0.132892, 0.963317]\n"
     ]
    },
    {
     "name": "stderr",
     "output_type": "stream",
     "text": [
      "\r",
      "\u001b[32msimulating aggregate path ... 96%|██████████████████████|  ETA: 0:00:00\u001b[39m\r",
      "\u001b[32msimulating aggregate path ...100%|██████████████████████| Time: 0:00:02\u001b[39m\n"
     ]
    },
    {
     "name": "stdout",
     "output_type": "stream",
     "text": [
      " --- Iteration over ALM coefficient: 93 ---\n"
     ]
    },
    {
     "name": "stderr",
     "output_type": "stream",
     "text": [
      "\u001b[32mSolving individual UMP by Euler method:  Time: 0:00:00 (21 iterations)\u001b[39m08)\u001b[39m\n",
      "\u001b[32msimulating aggregate path ... 72%|████████████████      |  ETA: 0:00:01\u001b[39m"
     ]
    },
    {
     "name": "stdout",
     "output_type": "stream",
     "text": [
      "difference of ALM coefficient is 7.652786657152966e-8 and B = [0.146874, 0.960939, 0.132892, 0.963317]\n",
      " --- Iteration over ALM coefficient: 94 ---\n"
     ]
    },
    {
     "name": "stderr",
     "output_type": "stream",
     "text": [
      "\u001b[32msimulating aggregate path ...100%|██████████████████████| Time: 0:00:02\u001b[39m\n",
      "\u001b[32mSolving individual UMP by Euler method:  Time: 0:00:00 (19 iterations)\u001b[39m8)\u001b[39mm\n",
      "\u001b[32msimulating aggregate path ... 74%|█████████████████     |  ETA: 0:00:01\u001b[39m"
     ]
    },
    {
     "name": "stdout",
     "output_type": "stream",
     "text": [
      "difference of ALM coefficient is 6.974838753781576e-8 and B = [0.146874, 0.960939, 0.132892, 0.963317]\n",
      " --- Iteration over ALM coefficient: 95 ---\n"
     ]
    },
    {
     "name": "stderr",
     "output_type": "stream",
     "text": [
      "\u001b[32msimulating aggregate path ...100%|██████████████████████| Time: 0:00:02\u001b[39m\n",
      "\u001b[32mSolving individual UMP by Euler method:  Time: 0:00:00 (19 iterations)\u001b[39m08)\u001b[39m\n",
      "\u001b[32msimulating aggregate path ... 76%|█████████████████     |  ETA: 0:00:01\u001b[39m"
     ]
    },
    {
     "name": "stdout",
     "output_type": "stream",
     "text": [
      "difference of ALM coefficient is 6.263902901926244e-8 and B = [0.146874, 0.960939, 0.132892, 0.963317]\n",
      " --- Iteration over ALM coefficient: 96 ---\n"
     ]
    },
    {
     "name": "stderr",
     "output_type": "stream",
     "text": [
      "\u001b[32msimulating aggregate path ...100%|██████████████████████| Time: 0:00:02\u001b[39m\n",
      "\u001b[32mSolving individual UMP by Euler method:  Time: 0:00:00 (17 iterations)\u001b[39m8)\u001b[39mm\n",
      "\u001b[32msimulating aggregate path ... 96%|██████████████████████|  ETA: 0:00:00\u001b[39m"
     ]
    },
    {
     "name": "stdout",
     "output_type": "stream",
     "text": [
      "difference of ALM coefficient is 5.709994851943456e-8 and B = [0.146874, 0.960939, 0.132892, 0.963317]\n",
      " --- Iteration over ALM coefficient: 97 ---\n"
     ]
    },
    {
     "name": "stderr",
     "output_type": "stream",
     "text": [
      "\u001b[32msimulating aggregate path ...100%|██████████████████████| Time: 0:00:02\u001b[39m\n",
      "\u001b[32mSolving individual UMP by Euler method:  Time: 0:00:00 (16 iterations)\u001b[39m8)\u001b[39mm\n",
      "\u001b[32msimulating aggregate path ... 73%|█████████████████     |  ETA: 0:00:01\u001b[39m"
     ]
    },
    {
     "name": "stdout",
     "output_type": "stream",
     "text": [
      "difference of ALM coefficient is 5.174000020091718e-8 and B = [0.146874, 0.960939, 0.132892, 0.963317]\n",
      " --- Iteration over ALM coefficient: 98 ---\n"
     ]
    },
    {
     "name": "stderr",
     "output_type": "stream",
     "text": [
      "\u001b[32msimulating aggregate path ...100%|██████████████████████| Time: 0:00:02\u001b[39m\n",
      "\u001b[32mSolving individual UMP by Euler method:  Time: 0:00:00 (15 iterations)\u001b[39m08)\u001b[39m\n",
      "\u001b[32msimulating aggregate path ... 95%|█████████████████████ |  ETA: 0:00:00\u001b[39m"
     ]
    },
    {
     "name": "stdout",
     "output_type": "stream",
     "text": [
      "difference of ALM coefficient is 4.6844407131096943e-8 and B = [0.146874, 0.960939, 0.132892, 0.963317]\n",
      " --- Iteration over ALM coefficient: 99 ---\n"
     ]
    },
    {
     "name": "stderr",
     "output_type": "stream",
     "text": [
      "\u001b[32msimulating aggregate path ...100%|██████████████████████| Time: 0:00:02\u001b[39m\n",
      "\u001b[32mSolving individual UMP by Euler method:  Time: 0:00:00 (14 iterations)\u001b[39m08)\u001b[39m\n",
      "\u001b[32msimulating aggregate path ... 72%|████████████████      |  ETA: 0:00:01\u001b[39m"
     ]
    },
    {
     "name": "stdout",
     "output_type": "stream",
     "text": [
      "difference of ALM coefficient is 4.254244148627073e-8 and B = [0.146874, 0.960939, 0.132892, 0.963317]\n",
      " --- Iteration over ALM coefficient: 100 ---"
     ]
    },
    {
     "name": "stderr",
     "output_type": "stream",
     "text": [
      "\r",
      "\u001b[32msimulating aggregate path ... 96%|██████████████████████|  ETA: 0:00:00\u001b[39m\r",
      "\u001b[32msimulating aggregate path ...100%|██████████████████████| Time: 0:00:02\u001b[39m\n"
     ]
    },
    {
     "name": "stdout",
     "output_type": "stream",
     "text": [
      "\n"
     ]
    },
    {
     "name": "stderr",
     "output_type": "stream",
     "text": [
      "\u001b[32mSolving individual UMP by Euler method:  Time: 0:00:00 (14 iterations)\u001b[39m08)\u001b[39m\n",
      "\u001b[32msimulating aggregate path ... 73%|█████████████████     |  ETA: 0:00:01\u001b[39m"
     ]
    },
    {
     "name": "stdout",
     "output_type": "stream",
     "text": [
      "difference of ALM coefficient is 3.804459813849803e-8 and B = [0.146874, 0.960939, 0.132892, 0.963317]"
     ]
    },
    {
     "name": "stderr",
     "output_type": "stream",
     "text": [
      "\r",
      "\u001b[32msimulating aggregate path ... 97%|██████████████████████|  ETA: 0:00:00\u001b[39m\r",
      "\u001b[32msimulating aggregate path ...100%|██████████████████████| Time: 0:00:02\u001b[39m\n"
     ]
    },
    {
     "name": "stdout",
     "output_type": "stream",
     "text": [
      "\n",
      " --- Iteration over ALM coefficient: 101 ---\n"
     ]
    },
    {
     "name": "stderr",
     "output_type": "stream",
     "text": [
      "\u001b[32mSolving individual UMP by Euler method:  Time: 0:00:00 (12 iterations)\u001b[39m08)\u001b[39m\n",
      "\u001b[32msimulating aggregate path ... 74%|█████████████████     |  ETA: 0:00:01\u001b[39m"
     ]
    },
    {
     "name": "stdout",
     "output_type": "stream",
     "text": [
      "difference of ALM coefficient is 3.4976016666243837e-8 and B = [0.146874, 0.960939, 0.132892, 0.963317]\n",
      " --- Iteration over ALM coefficient: 102 ---\n"
     ]
    },
    {
     "name": "stderr",
     "output_type": "stream",
     "text": [
      "\u001b[32msimulating aggregate path ...100%|██████████████████████| Time: 0:00:02\u001b[39m\n",
      "\u001b[32mSolving individual UMP by Euler method:  Time: 0:00:00 (12 iterations)\u001b[39m08)\u001b[39m\n",
      "\u001b[32msimulating aggregate path ... 73%|█████████████████     |  ETA: 0:00:01\u001b[39m"
     ]
    },
    {
     "name": "stdout",
     "output_type": "stream",
     "text": [
      "difference of ALM coefficient is 3.1486846935324664e-8 and B = [0.146874, 0.960939, 0.132892, 0.963317]\n",
      " --- Iteration over ALM coefficient: 103 ---\n"
     ]
    },
    {
     "name": "stderr",
     "output_type": "stream",
     "text": [
      "\u001b[32msimulating aggregate path ...100%|██████████████████████| Time: 0:00:02\u001b[39m\n",
      "\u001b[32mSolving individual UMP by Euler method:  Time: 0:00:00 (10 iterations)\u001b[39m08)\u001b[39m\n",
      "\u001b[32msimulating aggregate path ... 93%|█████████████████████ |  ETA: 0:00:00\u001b[39m"
     ]
    },
    {
     "name": "stdout",
     "output_type": "stream",
     "text": [
      "difference of ALM coefficient is 2.904139495552016e-8 and B = [0.146874, 0.960939, 0.132892, 0.963317]\n",
      " --- Iteration over ALM coefficient: 104 ---\n"
     ]
    },
    {
     "name": "stderr",
     "output_type": "stream",
     "text": [
      "\u001b[32msimulating aggregate path ...100%|██████████████████████| Time: 0:00:02\u001b[39m\n",
      "\u001b[32mSolving individual UMP by Euler method:  Time: 0:00:00 (11 iterations)\u001b[39m08)\u001b[39m\n",
      "\u001b[32msimulating aggregate path ... 72%|████████████████      |  ETA: 0:00:01\u001b[39m"
     ]
    },
    {
     "name": "stdout",
     "output_type": "stream",
     "text": [
      "difference of ALM coefficient is 2.5656462981915595e-8 and B = [0.146874, 0.960939, 0.132892, 0.963317]\n",
      " --- Iteration over ALM coefficient: 105 ---\n"
     ]
    },
    {
     "name": "stderr",
     "output_type": "stream",
     "text": [
      "\u001b[32msimulating aggregate path ...100%|██████████████████████| Time: 0:00:02\u001b[39m\n",
      "\u001b[32mSolving individual UMP by Euler method:  Time: 0:00:00 (9 iterations)\u001b[39m-08)\u001b[39m\n",
      "\u001b[32msimulating aggregate path ... 75%|█████████████████     |  ETA: 0:00:01\u001b[39m"
     ]
    },
    {
     "name": "stdout",
     "output_type": "stream",
     "text": [
      "difference of ALM coefficient is 2.3675274851697736e-8 and B = [0.146874, 0.960939, 0.132892, 0.963317]\n",
      " --- Iteration over ALM coefficient: 106 ---\n"
     ]
    },
    {
     "name": "stderr",
     "output_type": "stream",
     "text": [
      "\u001b[32msimulating aggregate path ...100%|██████████████████████| Time: 0:00:02\u001b[39m\n",
      "\u001b[32mSolving individual UMP by Euler method:  Time: 0:00:00 (9 iterations)\u001b[39m-08)\u001b[39m\n",
      "\u001b[32msimulating aggregate path ... 94%|█████████████████████ |  ETA: 0:00:00\u001b[39m"
     ]
    },
    {
     "name": "stdout",
     "output_type": "stream",
     "text": [
      "difference of ALM coefficient is 2.1270876116030735e-8 and B = [0.146874, 0.960939, 0.132892, 0.963317]\n",
      " --- Iteration over ALM coefficient: 107 ---\n"
     ]
    },
    {
     "name": "stderr",
     "output_type": "stream",
     "text": [
      "\u001b[32msimulating aggregate path ...100%|██████████████████████| Time: 0:00:02\u001b[39m\n",
      "\u001b[32mSolving individual UMP by Euler method:  Time: 0:00:00 (8 iterations)\u001b[39m08)\u001b[39m\n",
      "\u001b[32msimulating aggregate path ... 73%|████████████████      |  ETA: 0:00:01\u001b[39m"
     ]
    },
    {
     "name": "stdout",
     "output_type": "stream",
     "text": [
      "difference of ALM coefficient is 1.9416610569367165e-8 and B = [0.146874, 0.960939, 0.132892, 0.963317]\n",
      " --- Iteration over ALM coefficient: 108 ---"
     ]
    },
    {
     "name": "stderr",
     "output_type": "stream",
     "text": [
      "\r",
      "\u001b[32msimulating aggregate path ... 97%|██████████████████████|  ETA: 0:00:00\u001b[39m\r",
      "\u001b[32msimulating aggregate path ...100%|██████████████████████| Time: 0:00:02\u001b[39m\n"
     ]
    },
    {
     "name": "stdout",
     "output_type": "stream",
     "text": [
      "\n"
     ]
    },
    {
     "name": "stderr",
     "output_type": "stream",
     "text": [
      "\u001b[32mSolving individual UMP by Euler method:  Time: 0:00:00 (8 iterations)\u001b[39m-08)\u001b[39m\n",
      "\u001b[32msimulating aggregate path ... 73%|█████████████████     |  ETA: 0:00:01\u001b[39m"
     ]
    },
    {
     "name": "stdout",
     "output_type": "stream",
     "text": [
      "difference of ALM coefficient is 1.7361788201553097e-8 and B = [0.146874, 0.960939, 0.132892, 0.963317]\n",
      " --- Iteration over ALM coefficient: 109 ---\n"
     ]
    },
    {
     "name": "stderr",
     "output_type": "stream",
     "text": [
      "\u001b[32msimulating aggregate path ...100%|██████████████████████| Time: 0:00:02\u001b[39m\n",
      "\u001b[32mSolving individual UMP by Euler method:  Time: 0:00:00 (7 iterations)\u001b[39m08)\u001b[39m\n",
      "\u001b[32msimulating aggregate path ... 94%|█████████████████████ |  ETA: 0:00:00\u001b[39m"
     ]
    },
    {
     "name": "stdout",
     "output_type": "stream",
     "text": [
      "difference of ALM coefficient is 1.5907071271303863e-8 and B = [0.146874, 0.960939, 0.132892, 0.963317]\n",
      " --- Iteration over ALM coefficient: 110 ---\n"
     ]
    },
    {
     "name": "stderr",
     "output_type": "stream",
     "text": [
      "\u001b[32msimulating aggregate path ...100%|██████████████████████| Time: 0:00:02\u001b[39m\n",
      "\u001b[32mSolving individual UMP by Euler method:  Time: 0:00:00 (6 iterations)\u001b[39m-08)\u001b[39m\n",
      "\u001b[32msimulating aggregate path ... 87%|████████████████████  |  ETA: 0:00:00\u001b[39m"
     ]
    },
    {
     "name": "stdout",
     "output_type": "stream",
     "text": [
      "difference of ALM coefficient is 1.468659144299167e-8 and B = [0.146874, 0.960939, 0.132892, 0.963317]\n",
      " --- Iteration over ALM coefficient: 111 ---\n"
     ]
    },
    {
     "name": "stderr",
     "output_type": "stream",
     "text": [
      "\u001b[32msimulating aggregate path ...100%|██████████████████████| Time: 0:00:02\u001b[39m\n",
      "\u001b[32mSolving individual UMP by Euler method:  Time: 0:00:00 (6 iterations)\u001b[39m-08)\u001b[39m\n",
      "\u001b[32msimulating aggregate path ... 72%|████████████████      |  ETA: 0:00:01\u001b[39m"
     ]
    },
    {
     "name": "stdout",
     "output_type": "stream",
     "text": [
      "difference of ALM coefficient is 1.318548634166028e-8 and B = [0.146874, 0.960939, 0.132892, 0.963317]\n",
      " --- Iteration over ALM coefficient: 112 ---\n"
     ]
    },
    {
     "name": "stderr",
     "output_type": "stream",
     "text": [
      "\u001b[32msimulating aggregate path ...100%|██████████████████████| Time: 0:00:02\u001b[39m\n",
      "\u001b[32mSolving individual UMP by Euler method:  Time: 0:00:00 (6 iterations)\u001b[39m-08)\u001b[39m\n",
      "\u001b[32msimulating aggregate path ... 74%|█████████████████     |  ETA: 0:00:01\u001b[39m"
     ]
    },
    {
     "name": "stdout",
     "output_type": "stream",
     "text": [
      "difference of ALM coefficient is 1.1777319147698861e-8 and B = [0.146874, 0.960939, 0.132892, 0.963317]\n",
      " --- Iteration over ALM coefficient: 113 ---\n"
     ]
    },
    {
     "name": "stderr",
     "output_type": "stream",
     "text": [
      "\u001b[32msimulating aggregate path ...100%|██████████████████████| Time: 0:00:02\u001b[39m\n",
      "\u001b[32msimulating aggregate path ... 72%|████████████████      |  ETA: 0:00:01\u001b[39m"
     ]
    },
    {
     "name": "stdout",
     "output_type": "stream",
     "text": [
      "difference of ALM coefficient is 1.078307437785142e-8 and B = [0.146874, 0.960939, 0.132892, 0.963317]\n",
      " --- Iteration over ALM coefficient: 114 ---\n"
     ]
    },
    {
     "name": "stderr",
     "output_type": "stream",
     "text": [
      "\u001b[32msimulating aggregate path ...100%|██████████████████████| Time: 0:00:02\u001b[39m\n",
      "\u001b[32msimulating aggregate path ... 74%|█████████████████     |  ETA: 0:00:01\u001b[39m"
     ]
    },
    {
     "name": "stdout",
     "output_type": "stream",
     "text": [
      "difference of ALM coefficient is 9.680553608726328e-9 and B = [0.146874, 0.960939, 0.132892, 0.963317]\n",
      "-----------------------------------------------------\n",
      "ALM coefficient successfully converged : dif = 9.680553608726328e-9\n",
      "-----------------------------------------------------\n",
      "1273.846153 seconds (7.95 G allocations: 1.278 TiB, 15.51% gc time)\n"
     ]
    },
    {
     "name": "stderr",
     "output_type": "stream",
     "text": [
      "\r",
      "\u001b[32msimulating aggregate path ... 99%|██████████████████████|  ETA: 0:00:00\u001b[39m\r",
      "\u001b[32msimulating aggregate path ...100%|██████████████████████| Time: 0:00:02\u001b[39m\n"
     ]
    }
   ],
   "source": [
    "kss = KSSolution(ksp, load_value=false, load_B=false)\n",
    "ns = NonStochastic(ksp, zi_shocks[1])\n",
    "@time K_ts = find_ALM_coef!(EulerMethod(), \n",
    "            ns, ksp, kss, zi_shocks, \n",
    "            tol_ump = 1e-8, max_iter_ump = 10000,\n",
    "            tol_B = 1e-8, max_iter_B = 500, update_B = 0.3,\n",
    "            T_discard = T_discard);"
   ]
  },
  {
   "cell_type": "code",
   "execution_count": 12,
   "metadata": {},
   "outputs": [
    {
     "data": {
      "image/png": "[encoded data removed]"
     },
     "execution_count": 12,
     "metadata": {},
     "output_type": "execute_result"
    }
   ],
   "source": [
    "plot_ALM(ksp.z_grid, zi_shocks, kss.B,K_ts, T_discard = T_discard)"
   ]
  },
  {
   "cell_type": "code",
   "execution_count": 13,
   "metadata": {},
   "outputs": [
    {
     "name": "stdout",
     "output_type": "stream",
     "text": [
      "Approximated aggregate capital law of motion\n",
      "log(K_{t+1})=0.1468742297741828+0.9609390142949115log(K_{t}) in good time (R2 = 0.9999985643122742)\n",
      "log(K_{t+1})=0.1328919612162856+0.9633166115209159log(K_{t}) in bad time (R2 = 0.9999976186272014)\n"
     ]
    }
   ],
   "source": [
    "#kss.B  # Regression coefficient\n",
    "println(\"Approximated aggregate capital law of motion\")\n",
    "println(\"log(K_{t+1})=$(kss.B[1])+$(kss.B[2])log(K_{t}) in good time (R2 = $(kss.R2[1]))\")\n",
    "println(\"log(K_{t+1})=$(kss.B[3])+$(kss.B[4])log(K_{t}) in bad time (R2 = $(kss.R2[2]))\")"
   ]
  },
  {
   "cell_type": "code",
   "execution_count": 14,
   "metadata": {},
   "outputs": [],
   "source": [
    "@save \"result_Young.jld2\" ksp kss "
   ]
  },
  {
   "cell_type": "code",
   "execution_count": 15,
   "metadata": {},
   "outputs": [
    {
     "name": "stdout",
     "output_type": "stream",
     "text": [
      "mean of capital implied by regression is 40.1009518847617\n",
      "mean of capital implied by simulation is 40.350045260575776\n"
     ]
    }
   ],
   "source": [
    "# Compute mean of capital implied by regression\n",
    "mc=MarkovChain(ksp.transmat.Pz)\n",
    "sd=stationary_distributions(mc)[1]\n",
    "logKg=kss.B[1]/(1-kss.B[2])\n",
    "logKb=kss.B[3]/(1-kss.B[4])\n",
    "meanK_reg=exp(sd[1]*logKg+sd[2]*logKb)\n",
    "meanK_sim=mean(K_ts[T_discard+1:end])\n",
    "println(\"mean of capital implied by regression is $meanK_reg\")\n",
    "println(\"mean of capital implied by simulation is $meanK_sim\")"
   ]
  },
  {
   "cell_type": "markdown",
   "metadata": {},
   "source": [
    "## Figures in Krusell-Smith"
   ]
  },
  {
   "cell_type": "markdown",
   "metadata": {},
   "source": [
    "### Figure 1"
   ]
  },
  {
   "cell_type": "code",
   "execution_count": 16,
   "metadata": {},
   "outputs": [
    {
     "data": {
      "image/png": "[encoded data removed]"
     },
     "execution_count": 16,
     "metadata": {},
     "output_type": "execute_result"
    }
   ],
   "source": [
    "plot_Fig1(ksp ,kss, K_ts)"
   ]
  },
  {
   "cell_type": "markdown",
   "metadata": {},
   "source": [
    "### Figure 2"
   ]
  },
  {
   "cell_type": "code",
   "execution_count": 17,
   "metadata": {},
   "outputs": [
    {
     "data": {
      "image/png": "[encoded data removed]"
     },
     "execution_count": 17,
     "metadata": {},
     "output_type": "execute_result"
    }
   ],
   "source": [
    "plot_Fig2(ksp, kss, 40)"
   ]
  },
  {
   "cell_type": "markdown",
   "metadata": {},
   "source": [
    "# Solution with value function iteration\n",
    "In this section, each agent's utility maximization problem is solved by value function iteration."
   ]
  },
  {
   "cell_type": "markdown",
   "metadata": {},
   "source": [
    "## Implementation"
   ]
  },
  {
   "cell_type": "markdown",
   "metadata": {},
   "source": [
    "Let's skip the following steps in this section to save computational time.\n",
    "- consturuction of `ksp` instance since it is same\n",
    "- consturuction of `kss` instance to use the previous result as initial guess of the solution\n",
    "- draws of the shocks to use same ones\n",
    "\n",
    "However, instead of constructing `kss` again, obtain value from the policy function derived by Euler method:"
   ]
  },
  {
   "cell_type": "code",
   "execution_count": 18,
   "metadata": {},
   "outputs": [],
   "source": [
    "iterate_policy!(ksp, kss, n_iter=30)"
   ]
  },
  {
   "cell_type": "markdown",
   "metadata": {},
   "source": [
    "Young's non-stochastic method is used for simuation."
   ]
  },
  {
   "cell_type": "code",
   "execution_count": 19,
   "metadata": {},
   "outputs": [
    {
     "name": "stdout",
     "output_type": "stream",
     "text": [
      " --- Iteration over ALM coefficient: 1 ---\n"
     ]
    },
    {
     "name": "stderr",
     "output_type": "stream",
     "text": [
      "\u001b[32mSolving individual UMP by VFI:  (thresh = 1e-08, value = 1.0106e-08)\u001b[39mm"
     ]
    },
    {
     "name": "stdout",
     "output_type": "stream",
     "text": [
      " ** VFI converged successfully!! dif = 9.994721494877012e-9\n"
     ]
    },
    {
     "name": "stderr",
     "output_type": "stream",
     "text": [
      "\u001b[32mSolving individual UMP by VFI:  Time: 0:07:55 (1736 iterations)\u001b[39m\n",
      "\u001b[32msimulating aggregate path ... 83%|███████████████████   |  ETA: 0:00:00\u001b[39m"
     ]
    },
    {
     "name": "stdout",
     "output_type": "stream",
     "text": [
      "difference of ALM coefficient is 0.428805175480162 and B = [0.428805, 0.884554, 0.410498, 0.887896]\n",
      " --- Iteration over ALM coefficient: 2 ---\n"
     ]
    },
    {
     "name": "stderr",
     "output_type": "stream",
     "text": [
      "\u001b[32msimulating aggregate path ...100%|██████████████████████| Time: 0:00:02\u001b[39m\n",
      "\u001b[32mSolving individual UMP by VFI:  (thresh = 1e-08, value = 1.00532e-08)\u001b[39m"
     ]
    },
    {
     "name": "stdout",
     "output_type": "stream",
     "text": [
      " ** VFI converged successfully!! dif = 9.939441270034877e-9\n"
     ]
    },
    {
     "name": "stderr",
     "output_type": "stream",
     "text": [
      "\u001b[32mSolving individual UMP by VFI:  Time: 0:05:29 (1256 iterations)\u001b[39m\n",
      "\u001b[32msimulating aggregate path ... 82%|██████████████████    |  ETA: 0:00:00\u001b[39m"
     ]
    },
    {
     "name": "stdout",
     "output_type": "stream",
     "text": [
      "difference of ALM coefficient is 0.014460894014056674 and B = [0.143102, 0.961781, 0.114063, 0.96817]\n",
      " --- Iteration over ALM coefficient: 3 ---\n"
     ]
    },
    {
     "name": "stderr",
     "output_type": "stream",
     "text": [
      "\u001b[32msimulating aggregate path ...100%|██████████████████████| Time: 0:00:02\u001b[39m\n",
      "\u001b[32mSolving individual UMP by VFI:  (thresh = 1e-08, value = 1.00066e-08)\u001b[39m"
     ]
    },
    {
     "name": "stdout",
     "output_type": "stream",
     "text": [
      " ** VFI converged successfully!! dif = 9.893028618535027e-9\n"
     ]
    },
    {
     "name": "stderr",
     "output_type": "stream",
     "text": [
      "\u001b[32mSolving individual UMP by VFI:  Time: 0:05:17 (1188 iterations)\u001b[39m\n",
      "\u001b[32msimulating aggregate path ... 89%|████████████████████  |  ETA: 0:00:00\u001b[39m"
     ]
    },
    {
     "name": "stdout",
     "output_type": "stream",
     "text": [
      "difference of ALM coefficient is 0.011577595533557777 and B = [0.144557, 0.961503, 0.119452, 0.966854]\n",
      " --- Iteration over ALM coefficient: 4 ---\n"
     ]
    },
    {
     "name": "stderr",
     "output_type": "stream",
     "text": [
      "\u001b[32msimulating aggregate path ...100%|██████████████████████| Time: 0:00:02\u001b[39m\n",
      "\u001b[32mSolving individual UMP by VFI:  (thresh = 1e-08, value = 1.00553e-08)\u001b[39m"
     ]
    },
    {
     "name": "stdout",
     "output_type": "stream",
     "text": [
      " ** VFI converged successfully!! dif = 9.941516054823296e-9\n"
     ]
    },
    {
     "name": "stderr",
     "output_type": "stream",
     "text": [
      "\u001b[32mSolving individual UMP by VFI:  Time: 0:04:34 (1003 iterations)\u001b[39m\n",
      "\u001b[32msimulating aggregate path ... 82%|███████████████████   |  ETA: 0:00:00\u001b[39m"
     ]
    },
    {
     "name": "stdout",
     "output_type": "stream",
     "text": [
      "difference of ALM coefficient is 0.00672525014133743 and B = [0.143178, 0.96185, 0.118426, 0.967128]\n",
      " --- Iteration over ALM coefficient: 5 ---\n"
     ]
    },
    {
     "name": "stderr",
     "output_type": "stream",
     "text": [
      "\u001b[32msimulating aggregate path ...100%|██████████████████████| Time: 0:00:02\u001b[39m\n",
      "\u001b[32mSolving individual UMP by VFI:  (thresh = 1e-08, value = 1.00691e-08)\u001b[39m"
     ]
    },
    {
     "name": "stdout",
     "output_type": "stream",
     "text": [
      " ** VFI converged successfully!! dif = 9.952884738595458e-9\n"
     ]
    },
    {
     "name": "stderr",
     "output_type": "stream",
     "text": [
      "\u001b[32mSolving individual UMP by VFI:  Time: 0:03:35 (808 iterations)\u001b[39m\n",
      "\u001b[32msimulating aggregate path ... 80%|██████████████████    |  ETA: 0:00:00\u001b[39m"
     ]
    },
    {
     "name": "stdout",
     "output_type": "stream",
     "text": [
      "difference of ALM coefficient is 0.0041543727804939645 and B = [0.142625, 0.961995, 0.118337, 0.967161]\n",
      " --- Iteration over ALM coefficient: 6 ---\n"
     ]
    },
    {
     "name": "stderr",
     "output_type": "stream",
     "text": [
      "\u001b[32msimulating aggregate path ...100%|██████████████████████| Time: 0:00:02\u001b[39m\n",
      "\u001b[32mSolving individual UMP by VFI:  (thresh = 1e-08, value = 1.0075e-08)\u001b[39mm"
     ]
    },
    {
     "name": "stdout",
     "output_type": "stream",
     "text": [
      " ** VFI converged successfully!! dif = 9.96114124518499e-9\n"
     ]
    },
    {
     "name": "stderr",
     "output_type": "stream",
     "text": [
      "\u001b[32mSolving individual UMP by VFI:  Time: 0:02:60 (686 iterations)\u001b[39m\n",
      "\u001b[32msimulating aggregate path ... 83%|███████████████████   |  ETA: 0:00:00\u001b[39m"
     ]
    },
    {
     "name": "stdout",
     "output_type": "stream",
     "text": [
      "difference of ALM coefficient is 0.0025803524375948572 and B = [0.142297, 0.962079, 0.118271, 0.967184]\n",
      " --- Iteration over ALM coefficient: 7 ---"
     ]
    },
    {
     "name": "stderr",
     "output_type": "stream",
     "text": [
      "\r",
      "\u001b[32msimulating aggregate path ...100%|██████████████████████| Time: 0:00:02\u001b[39m\n"
     ]
    },
    {
     "name": "stdout",
     "output_type": "stream",
     "text": [
      "\n"
     ]
    },
    {
     "name": "stderr",
     "output_type": "stream",
     "text": [
      "\u001b[32mSolving individual UMP by VFI:  (thresh = 1e-08, value = 1.03562e-08)\u001b[39m"
     ]
    },
    {
     "name": "stdout",
     "output_type": "stream",
     "text": [
      " ** VFI converged successfully!! dif = 9.966854008780501e-9\n"
     ]
    },
    {
     "name": "stderr",
     "output_type": "stream",
     "text": [
      "\u001b[32mSolving individual UMP by VFI:  Time: 0:02:47 (642 iterations)\u001b[39m\n",
      "\u001b[32msimulating aggregate path ... 83%|███████████████████   |  ETA: 0:00:00\u001b[39m"
     ]
    },
    {
     "name": "stdout",
     "output_type": "stream",
     "text": [
      "difference of ALM coefficient is 0.0016218195891860299 and B = [0.142113, 0.962125, 0.118257, 0.967191]\n",
      " --- Iteration over ALM coefficient: 8 ---\n"
     ]
    },
    {
     "name": "stderr",
     "output_type": "stream",
     "text": [
      "\u001b[32msimulating aggregate path ...100%|██████████████████████| Time: 0:00:02\u001b[39m\n",
      "\u001b[32mSolving individual UMP by VFI:  (thresh = 1e-08, value = 1.00832e-08)\u001b[39m"
     ]
    },
    {
     "name": "stdout",
     "output_type": "stream",
     "text": [
      " ** VFI converged successfully!! dif = 9.961809155356605e-9\n"
     ]
    },
    {
     "name": "stderr",
     "output_type": "stream",
     "text": [
      "\u001b[32mSolving individual UMP by VFI:  Time: 0:03:10 (605 iterations)\u001b[39m\n",
      "\u001b[32msimulating aggregate path ... 89%|████████████████████  |  ETA: 0:00:00\u001b[39m"
     ]
    },
    {
     "name": "stdout",
     "output_type": "stream",
     "text": [
      "difference of ALM coefficient is 0.0010273799823305452 and B = [0.142005, 0.962152, 0.118259, 0.967192]\n",
      " --- Iteration over ALM coefficient: 9 ---\n"
     ]
    },
    {
     "name": "stderr",
     "output_type": "stream",
     "text": [
      "\u001b[32msimulating aggregate path ...100%|██████████████████████| Time: 0:00:02\u001b[39m\n",
      "\u001b[32mSolving individual UMP by VFI:  (thresh = 1e-08, value = 1.01004e-08)\u001b[39m"
     ]
    },
    {
     "name": "stdout",
     "output_type": "stream",
     "text": [
      " ** VFI converged successfully!! dif = 9.978975867852569e-9\n"
     ]
    },
    {
     "name": "stderr",
     "output_type": "stream",
     "text": [
      "\u001b[32mSolving individual UMP by VFI:  Time: 0:02:54 (573 iterations)\u001b[39m\n",
      "\u001b[32msimulating aggregate path ... 93%|█████████████████████ |  ETA: 0:00:00\u001b[39m"
     ]
    },
    {
     "name": "stdout",
     "output_type": "stream",
     "text": [
      "difference of ALM coefficient is 0.0006554489272417308 and B = [0.141941, 0.962168, 0.118267, 0.967192]\n",
      " --- Iteration over ALM coefficient: 10 ---\n"
     ]
    },
    {
     "name": "stderr",
     "output_type": "stream",
     "text": [
      "\u001b[32msimulating aggregate path ...100%|██████████████████████| Time: 0:00:03\u001b[39m\n",
      "\u001b[32mSolving individual UMP by VFI:  (thresh = 1e-08, value = 1.01048e-08)\u001b[39m"
     ]
    },
    {
     "name": "stdout",
     "output_type": "stream",
     "text": [
      " ** VFI converged successfully!! dif = 9.96641347228433e-9\n"
     ]
    },
    {
     "name": "stderr",
     "output_type": "stream",
     "text": [
      "\u001b[32mSolving individual UMP by VFI:  Time: 0:02:47 (539 iterations)\u001b[39m\n",
      "\u001b[32msimulating aggregate path ... 80%|██████████████████    |  ETA: 0:00:00\u001b[39m"
     ]
    },
    {
     "name": "stdout",
     "output_type": "stream",
     "text": [
      "difference of ALM coefficient is 0.00042016726753904554 and B = [0.141903, 0.962178, 0.118276, 0.96719]\n",
      " --- Iteration over ALM coefficient: 11 ---\n"
     ]
    },
    {
     "name": "stderr",
     "output_type": "stream",
     "text": [
      "\u001b[32msimulating aggregate path ...100%|██████████████████████| Time: 0:00:02\u001b[39m\n",
      "\u001b[32mSolving individual UMP by VFI:  (thresh = 1e-08, value = 1.01166e-08)\u001b[39m"
     ]
    },
    {
     "name": "stdout",
     "output_type": "stream",
     "text": [
      " ** VFI converged successfully!! dif = 9.994266747526126e-9\n"
     ]
    },
    {
     "name": "stderr",
     "output_type": "stream",
     "text": [
      "\u001b[32mSolving individual UMP by VFI:  Time: 0:02:31 (503 iterations)\u001b[39m\n",
      "\u001b[32msimulating aggregate path ... 77%|█████████████████     |  ETA: 0:00:00\u001b[39m"
     ]
    },
    {
     "name": "stdout",
     "output_type": "stream",
     "text": [
      "difference of ALM coefficient is 0.0002703569084139268 and B = [0.141879, 0.962184, 0.118283, 0.967189]\n",
      " --- Iteration over ALM coefficient: 12 ---\n"
     ]
    },
    {
     "name": "stderr",
     "output_type": "stream",
     "text": [
      "\u001b[32msimulating aggregate path ...100%|██████████████████████| Time: 0:00:02\u001b[39m\n",
      "\u001b[32mSolving individual UMP by VFI:  (thresh = 1e-08, value = 1.0025e-08)\u001b[39mm"
     ]
    },
    {
     "name": "stdout",
     "output_type": "stream",
     "text": [
      " ** VFI converged successfully!! dif = 9.903544651024276e-9\n"
     ]
    },
    {
     "name": "stderr",
     "output_type": "stream",
     "text": [
      "\u001b[32mSolving individual UMP by VFI:  Time: 0:02:25 (471 iterations)\u001b[39m\n",
      "\u001b[32msimulating aggregate path ... 70%|████████████████      |  ETA: 0:00:01\u001b[39m"
     ]
    },
    {
     "name": "stdout",
     "output_type": "stream",
     "text": [
      "difference of ALM coefficient is 0.0001747881005138563 and B = [0.141864, 0.962187, 0.118289, 0.967188]\n"
     ]
    },
    {
     "name": "stderr",
     "output_type": "stream",
     "text": [
      "\r",
      "\u001b[32msimulating aggregate path ... 95%|█████████████████████ |  ETA: 0:00:00\u001b[39m\r",
      "\u001b[32msimulating aggregate path ...100%|██████████████████████| Time: 0:00:02\u001b[39m\n"
     ]
    },
    {
     "name": "stdout",
     "output_type": "stream",
     "text": [
      " --- Iteration over ALM coefficient: 13 ---\n"
     ]
    },
    {
     "name": "stderr",
     "output_type": "stream",
     "text": [
      "\u001b[32mSolving individual UMP by VFI:  (thresh = 1e-08, value = 1.01129e-08)\u001b[39m"
     ]
    },
    {
     "name": "stdout",
     "output_type": "stream",
     "text": [
      " ** VFI converged successfully!! dif = 9.989889804273844e-9\n"
     ]
    },
    {
     "name": "stderr",
     "output_type": "stream",
     "text": [
      "\u001b[32mSolving individual UMP by VFI:  Time: 0:02:01 (436 iterations)\u001b[39m\n",
      "\u001b[32msimulating aggregate path ... 79%|██████████████████    |  ETA: 0:00:00\u001b[39m"
     ]
    },
    {
     "name": "stdout",
     "output_type": "stream",
     "text": [
      "difference of ALM coefficient is 0.00011310615847315297 and B = [0.141855, 0.962189, 0.118293, 0.967187]\n",
      " --- Iteration over ALM coefficient: 14 ---\n"
     ]
    },
    {
     "name": "stderr",
     "output_type": "stream",
     "text": [
      "\u001b[32msimulating aggregate path ...100%|██████████████████████| Time: 0:00:02\u001b[39m\n",
      "\u001b[32mSolving individual UMP by VFI:  (thresh = 1e-08, value = 1.00514e-08)\u001b[39m"
     ]
    },
    {
     "name": "stdout",
     "output_type": "stream",
     "text": [
      " ** VFI converged successfully!! dif = 9.928498911904171e-9\n"
     ]
    },
    {
     "name": "stderr",
     "output_type": "stream",
     "text": [
      "\u001b[32mSolving individual UMP by VFI:  Time: 0:01:56 (402 iterations)\u001b[39m\n",
      "\u001b[32msimulating aggregate path ... 93%|█████████████████████ |  ETA: 0:00:00\u001b[39m"
     ]
    },
    {
     "name": "stdout",
     "output_type": "stream",
     "text": [
      "difference of ALM coefficient is 7.32621346145601e-5 and B = [0.141849, 0.962191, 0.118296, 0.967186]\n",
      " --- Iteration over ALM coefficient: 15 ---\n"
     ]
    },
    {
     "name": "stderr",
     "output_type": "stream",
     "text": [
      "\u001b[32msimulating aggregate path ...100%|██████████████████████| Time: 0:00:02\u001b[39m\n",
      "\u001b[32mSolving individual UMP by VFI:  (thresh = 1e-08, value = 1.00943e-08)\u001b[39m"
     ]
    },
    {
     "name": "stdout",
     "output_type": "stream",
     "text": [
      " ** VFI converged successfully!! dif = 9.970108294510283e-9\n"
     ]
    },
    {
     "name": "stderr",
     "output_type": "stream",
     "text": [
      "\u001b[32mSolving individual UMP by VFI:  Time: 0:01:42 (368 iterations)\u001b[39m\n",
      "\u001b[32msimulating aggregate path ... 74%|█████████████████     |  ETA: 0:00:01\u001b[39m"
     ]
    },
    {
     "name": "stdout",
     "output_type": "stream",
     "text": [
      "difference of ALM coefficient is 4.770718960114828e-5 and B = [0.141846, 0.962191, 0.118298, 0.967186]\n",
      " --- Iteration over ALM coefficient: 16 ---\n"
     ]
    },
    {
     "name": "stderr",
     "output_type": "stream",
     "text": [
      "\u001b[32msimulating aggregate path ...100%|██████████████████████| Time: 0:00:02\u001b[39m\n",
      "\u001b[32mSolving individual UMP by VFI:  (thresh = 1e-08, value = 1.00158e-08)\u001b[39m"
     ]
    },
    {
     "name": "stdout",
     "output_type": "stream",
     "text": [
      " ** VFI converged successfully!! dif = 9.891550689644646e-9\n"
     ]
    },
    {
     "name": "stderr",
     "output_type": "stream",
     "text": [
      "\u001b[32mSolving individual UMP by VFI:  Time: 0:01:57 (334 iterations)\u001b[39m\n",
      "\u001b[32msimulating aggregate path ... 91%|█████████████████████ |  ETA: 0:00:00\u001b[39m"
     ]
    },
    {
     "name": "stdout",
     "output_type": "stream",
     "text": [
      "difference of ALM coefficient is 3.090272309547171e-5 and B = [0.141843, 0.962192, 0.1183, 0.967186]\n",
      " --- Iteration over ALM coefficient: 17 ---\n"
     ]
    },
    {
     "name": "stderr",
     "output_type": "stream",
     "text": [
      "\u001b[32msimulating aggregate path ...100%|██████████████████████| Time: 0:00:02\u001b[39m\n",
      "\u001b[32mSolving individual UMP by VFI:  (thresh = 1e-08, value = 1.0051e-08)\u001b[39mm"
     ]
    },
    {
     "name": "stdout",
     "output_type": "stream",
     "text": [
      " ** VFI converged successfully!! dif = 9.926452548825182e-9\n"
     ]
    },
    {
     "name": "stderr",
     "output_type": "stream",
     "text": [
      "\u001b[32mSolving individual UMP by VFI:  Time: 0:01:29 (308 iterations)\u001b[39m\n",
      "\u001b[32msimulating aggregate path ... 81%|██████████████████    |  ETA: 0:00:00\u001b[39m"
     ]
    },
    {
     "name": "stdout",
     "output_type": "stream",
     "text": [
      "difference of ALM coefficient is 2.0087004701296873e-5 and B = [0.141842, 0.962192, 0.1183, 0.967186]\n",
      " --- Iteration over ALM coefficient: 18 ---\n"
     ]
    },
    {
     "name": "stderr",
     "output_type": "stream",
     "text": [
      "\u001b[32msimulating aggregate path ...100%|██████████████████████| Time: 0:00:03\u001b[39m\n",
      "\u001b[32mSolving individual UMP by VFI:  (thresh = 1e-08, value = 1.01298e-08)\u001b[39m"
     ]
    },
    {
     "name": "stdout",
     "output_type": "stream",
     "text": [
      " ** VFI converged successfully!! dif = 9.999837402574485e-9\n"
     ]
    },
    {
     "name": "stderr",
     "output_type": "stream",
     "text": [
      "\u001b[32mSolving individual UMP by VFI:  Time: 0:01:18 (258 iterations)\u001b[39m\n",
      "\u001b[32msimulating aggregate path ... 79%|██████████████████    |  ETA: 0:00:00\u001b[39m"
     ]
    },
    {
     "name": "stdout",
     "output_type": "stream",
     "text": [
      "difference of ALM coefficient is 1.3064436913179378e-5 and B = [0.141841, 0.962193, 0.118301, 0.967185]\n",
      " --- Iteration over ALM coefficient: 19 ---\n"
     ]
    },
    {
     "name": "stderr",
     "output_type": "stream",
     "text": [
      "\u001b[32msimulating aggregate path ...100%|██████████████████████| Time: 0:00:02\u001b[39m\n",
      "\u001b[32mSolving individual UMP by VFI:  (thresh = 1e-08, value = 1.00138e-08)\u001b[39m"
     ]
    },
    {
     "name": "stdout",
     "output_type": "stream",
     "text": [
      " ** VFI converged successfully!! dif = 9.88967485682224e-9\n"
     ]
    },
    {
     "name": "stderr",
     "output_type": "stream",
     "text": [
      "\u001b[32mSolving individual UMP by VFI:  Time: 0:01:17 (255 iterations)\u001b[39m\n",
      "\u001b[32msimulating aggregate path ... 72%|████████████████      |  ETA: 0:00:01\u001b[39m"
     ]
    },
    {
     "name": "stdout",
     "output_type": "stream",
     "text": [
      "difference of ALM coefficient is 8.69738075323645e-6 and B = [0.14184, 0.962193, 0.118302, 0.967185]\n",
      " --- Iteration over ALM coefficient: 20 ---\n"
     ]
    },
    {
     "name": "stderr",
     "output_type": "stream",
     "text": [
      "\u001b[32msimulating aggregate path ...100%|██████████████████████| Time: 0:00:02\u001b[39m\n",
      "\u001b[32mSolving individual UMP by VFI:  (thresh = 1e-08, value = 1.00476e-08)\u001b[39m"
     ]
    },
    {
     "name": "stdout",
     "output_type": "stream",
     "text": [
      " ** VFI converged successfully!! dif = 9.919460808305303e-9\n"
     ]
    },
    {
     "name": "stderr",
     "output_type": "stream",
     "text": [
      "\u001b[32mSolving individual UMP by VFI:  Time: 0:01:34 (206 iterations)\u001b[39m\n",
      "\u001b[32msimulating aggregate path ... 89%|████████████████████  |  ETA: 0:00:00\u001b[39m"
     ]
    },
    {
     "name": "stdout",
     "output_type": "stream",
     "text": [
      "difference of ALM coefficient is 5.468240175970918e-6 and B = [0.14184, 0.962193, 0.118302, 0.967185]\n",
      " --- Iteration over ALM coefficient: 21 ---\n"
     ]
    },
    {
     "name": "stderr",
     "output_type": "stream",
     "text": [
      "\u001b[32msimulating aggregate path ...100%|██████████████████████| Time: 0:00:02\u001b[39m\n",
      "\u001b[32mSolving individual UMP by VFI:  (thresh = 1e-08, value = 1.01033e-08)\u001b[39m"
     ]
    },
    {
     "name": "stdout",
     "output_type": "stream",
     "text": [
      " ** VFI converged successfully!! dif = 9.976076853490667e-9\n"
     ]
    },
    {
     "name": "stderr",
     "output_type": "stream",
     "text": [
      "\u001b[32mSolving individual UMP by VFI:  Time: 0:00:55 (174 iterations)\u001b[39m\n",
      "\u001b[32msimulating aggregate path ... 76%|█████████████████     |  ETA: 0:00:00\u001b[39m"
     ]
    },
    {
     "name": "stdout",
     "output_type": "stream",
     "text": [
      "difference of ALM coefficient is 3.580045910361873e-6 and B = [0.141839, 0.962193, 0.118302, 0.967185]\n",
      " --- Iteration over ALM coefficient: 22 ---\n"
     ]
    },
    {
     "name": "stderr",
     "output_type": "stream",
     "text": [
      "\u001b[32msimulating aggregate path ...100%|██████████████████████| Time: 0:00:02\u001b[39m\n",
      "\u001b[32mSolving individual UMP by VFI:  (thresh = 1e-08, value = 1.00782e-08)\u001b[39m"
     ]
    },
    {
     "name": "stdout",
     "output_type": "stream",
     "text": [
      " ** VFI converged successfully!! dif = 9.948990964403492e-9\n"
     ]
    },
    {
     "name": "stderr",
     "output_type": "stream",
     "text": [
      "\u001b[32mSolving individual UMP by VFI:  Time: 0:00:44 (135 iterations)\u001b[39m\n",
      "\u001b[32msimulating aggregate path ... 79%|██████████████████    |  ETA: 0:00:00\u001b[39m"
     ]
    },
    {
     "name": "stdout",
     "output_type": "stream",
     "text": [
      "difference of ALM coefficient is 2.2968971356840395e-6 and B = [0.141839, 0.962193, 0.118302, 0.967185]\n",
      " --- Iteration over ALM coefficient: 23 ---\n"
     ]
    },
    {
     "name": "stderr",
     "output_type": "stream",
     "text": [
      "\u001b[32msimulating aggregate path ...100%|██████████████████████| Time: 0:00:02\u001b[39m\n",
      "\u001b[32mSolving individual UMP by VFI:  (thresh = 1e-08, value = 1.00779e-08)\u001b[39m"
     ]
    },
    {
     "name": "stdout",
     "output_type": "stream",
     "text": [
      " ** VFI converged successfully!! dif = 9.9573185252666e-9\n"
     ]
    },
    {
     "name": "stderr",
     "output_type": "stream",
     "text": [
      "\u001b[32mSolving individual UMP by VFI:  Time: 0:00:45 (161 iterations)\u001b[39m\n",
      "\u001b[32msimulating aggregate path ... 80%|██████████████████    |  ETA: 0:00:00\u001b[39m"
     ]
    },
    {
     "name": "stdout",
     "output_type": "stream",
     "text": [
      "difference of ALM coefficient is 1.520622740197597e-6 and B = [0.141839, 0.962193, 0.118302, 0.967185]\n",
      " --- Iteration over ALM coefficient: 24 ---\n"
     ]
    },
    {
     "name": "stderr",
     "output_type": "stream",
     "text": [
      "\u001b[32msimulating aggregate path ...100%|██████████████████████| Time: 0:00:02\u001b[39m\n",
      "\u001b[32mSolving individual UMP by VFI:  (thresh = 1e-08, value = 1.02691e-08)\u001b[39m"
     ]
    },
    {
     "name": "stdout",
     "output_type": "stream",
     "text": [
      " ** VFI converged successfully!! dif = 9.996881544793723e-9\n"
     ]
    },
    {
     "name": "stderr",
     "output_type": "stream",
     "text": [
      "\u001b[32mSolving individual UMP by VFI:  Time: 0:00:22 (85 iterations)\u001b[39m\n",
      "\u001b[32msimulating aggregate path ... 80%|██████████████████    |  ETA: 0:00:00\u001b[39m"
     ]
    },
    {
     "name": "stdout",
     "output_type": "stream",
     "text": [
      "difference of ALM coefficient is 9.749422733851265e-7 and B = [0.141839, 0.962193, 0.118302, 0.967185]\n",
      " --- Iteration over ALM coefficient: 25 ---\n"
     ]
    },
    {
     "name": "stderr",
     "output_type": "stream",
     "text": [
      "\u001b[32msimulating aggregate path ...100%|██████████████████████| Time: 0:00:02\u001b[39m\n",
      "\u001b[32mSolving individual UMP by VFI:  (thresh = 1e-08, value = 1.01489e-08)\u001b[39m"
     ]
    },
    {
     "name": "stdout",
     "output_type": "stream",
     "text": [
      " ** VFI converged successfully!! dif = 9.94174342849874e-9\n"
     ]
    },
    {
     "name": "stderr",
     "output_type": "stream",
     "text": [
      "\u001b[32mSolving individual UMP by VFI:  Time: 0:00:19 (72 iterations)\u001b[39m\n",
      "\u001b[32msimulating aggregate path ... 81%|██████████████████    |  ETA: 0:00:00\u001b[39m"
     ]
    },
    {
     "name": "stdout",
     "output_type": "stream",
     "text": [
      "difference of ALM coefficient is 6.30561285019926e-7 and B = [0.141839, 0.962193, 0.118302, 0.967185]\n",
      " --- Iteration over ALM coefficient: 26 ---\n"
     ]
    },
    {
     "name": "stderr",
     "output_type": "stream",
     "text": [
      "\u001b[32msimulating aggregate path ...100%|██████████████████████| Time: 0:00:02\u001b[39m\n",
      "\u001b[32mSolving individual UMP by VFI:  (thresh = 1e-08, value = 1.00036e-08)\u001b[39m"
     ]
    },
    {
     "name": "stdout",
     "output_type": "stream",
     "text": [
      " ** VFI converged successfully!! dif = 9.854176141743665e-9\n"
     ]
    },
    {
     "name": "stderr",
     "output_type": "stream",
     "text": [
      "\u001b[32mSolving individual UMP by VFI:  Time: 0:00:24 (91 iterations)\u001b[39m\n",
      "\u001b[32msimulating aggregate path ... 80%|██████████████████    |  ETA: 0:00:00\u001b[39m"
     ]
    },
    {
     "name": "stdout",
     "output_type": "stream",
     "text": [
      "difference of ALM coefficient is 4.689234013866006e-7 and B = [0.141839, 0.962193, 0.118302, 0.967185]\n",
      " --- Iteration over ALM coefficient: 27 ---\n"
     ]
    },
    {
     "name": "stderr",
     "output_type": "stream",
     "text": [
      "\u001b[32msimulating aggregate path ...100%|██████████████████████| Time: 0:00:02\u001b[39m\n",
      "\u001b[32mSolving individual UMP by VFI:  (thresh = 1e-08, value = 1.03537e-08)\u001b[39m"
     ]
    },
    {
     "name": "stdout",
     "output_type": "stream",
     "text": [
      " ** VFI converged successfully!! dif = 9.96635662886547e-9\n"
     ]
    },
    {
     "name": "stderr",
     "output_type": "stream",
     "text": [
      "\u001b[32mSolving individual UMP by VFI:  Time: 0:00:15 (57 iterations)\u001b[39m\n",
      "\u001b[32msimulating aggregate path ... 76%|█████████████████     |  ETA: 0:00:00\u001b[39m"
     ]
    },
    {
     "name": "stdout",
     "output_type": "stream",
     "text": [
      "difference of ALM coefficient is 3.1492881336081524e-7 and B = [0.141839, 0.962193, 0.118302, 0.967185]\n",
      " --- Iteration over ALM coefficient: 28 ---\n"
     ]
    },
    {
     "name": "stderr",
     "output_type": "stream",
     "text": [
      "\u001b[32msimulating aggregate path ...100%|██████████████████████| Time: 0:00:02\u001b[39m\n",
      "\u001b[32mSolving individual UMP by VFI:  (thresh = 1e-08, value = 1.00153e-08)\u001b[39m"
     ]
    },
    {
     "name": "stdout",
     "output_type": "stream",
     "text": [
      " ** VFI converged successfully!! dif = 9.578542403687607e-9\n"
     ]
    },
    {
     "name": "stderr",
     "output_type": "stream",
     "text": [
      "\u001b[32mSolving individual UMP by VFI:  Time: 0:00:13 (50 iterations)\u001b[39m\n",
      "\u001b[32msimulating aggregate path ... 81%|██████████████████    |  ETA: 0:00:00\u001b[39m"
     ]
    },
    {
     "name": "stdout",
     "output_type": "stream",
     "text": [
      "difference of ALM coefficient is 1.5169019318417298e-7 and B = [0.141839, 0.962193, 0.118302, 0.967185]\n",
      " --- Iteration over ALM coefficient: 29 ---\n"
     ]
    },
    {
     "name": "stderr",
     "output_type": "stream",
     "text": [
      "\u001b[32msimulating aggregate path ...100%|██████████████████████| Time: 0:00:02\u001b[39m\n",
      "\u001b[32mSolving individual UMP by VFI:  (thresh = 1e-08, value = 1.01037e-08)\u001b[39m"
     ]
    },
    {
     "name": "stdout",
     "output_type": "stream",
     "text": [
      " ** VFI converged successfully!! dif = 9.968800895876484e-9\n"
     ]
    },
    {
     "name": "stderr",
     "output_type": "stream",
     "text": [
      "\u001b[32mSolving individual UMP by VFI:  Time: 0:00:21 (69 iterations)\u001b[39m\n",
      "\u001b[32msimulating aggregate path ... 79%|██████████████████    |  ETA: 0:00:00\u001b[39m"
     ]
    },
    {
     "name": "stdout",
     "output_type": "stream",
     "text": [
      "difference of ALM coefficient is 1.705320638450969e-7 and B = [0.141839, 0.962193, 0.118302, 0.967185]\n",
      " --- Iteration over ALM coefficient: 30 ---\n"
     ]
    },
    {
     "name": "stderr",
     "output_type": "stream",
     "text": [
      "\u001b[32msimulating aggregate path ...100%|██████████████████████| Time: 0:00:02\u001b[39m\n",
      "\u001b[32mSolving individual UMP by VFI:  (thresh = 1e-08, value = 1.0077e-08)\u001b[39mm"
     ]
    },
    {
     "name": "stdout",
     "output_type": "stream",
     "text": [
      " ** VFI converged successfully!! dif = 9.860116279014619e-9\n"
     ]
    },
    {
     "name": "stderr",
     "output_type": "stream",
     "text": [
      "\u001b[32mSolving individual UMP by VFI:  Time: 0:00:11 (43 iterations)\u001b[39m\n",
      "\u001b[32msimulating aggregate path ... 82%|██████████████████    |  ETA: 0:00:00\u001b[39m"
     ]
    },
    {
     "name": "stdout",
     "output_type": "stream",
     "text": [
      "difference of ALM coefficient is 1.3195634965268432e-7 and B = [0.141839, 0.962193, 0.118302, 0.967185]\n",
      " --- Iteration over ALM coefficient: 31 ---\n"
     ]
    },
    {
     "name": "stderr",
     "output_type": "stream",
     "text": [
      "\u001b[32msimulating aggregate path ...100%|██████████████████████| Time: 0:00:02\u001b[39m\n",
      "\u001b[32mSolving individual UMP by VFI:  (thresh = 1e-08, value = 1.03134e-08)\u001b[39m"
     ]
    },
    {
     "name": "stdout",
     "output_type": "stream",
     "text": [
      " ** VFI converged successfully!! dif = 9.833968306338647e-9\n"
     ]
    },
    {
     "name": "stderr",
     "output_type": "stream",
     "text": [
      "\u001b[32mSolving individual UMP by VFI:  Time: 0:00:08 (30 iterations)\u001b[39m\n",
      "\u001b[32msimulating aggregate path ... 80%|██████████████████    |  ETA: 0:00:00\u001b[39m"
     ]
    },
    {
     "name": "stdout",
     "output_type": "stream",
     "text": [
      "difference of ALM coefficient is 4.341085224623953e-8 and B = [0.141839, 0.962193, 0.118302, 0.967185]\n",
      " --- Iteration over ALM coefficient: 32 ---\n"
     ]
    },
    {
     "name": "stderr",
     "output_type": "stream",
     "text": [
      "\u001b[32msimulating aggregate path ...100%|██████████████████████| Time: 0:00:02\u001b[39m\n",
      "\u001b[32mSolving individual UMP by VFI:  (thresh = 1e-08, value = 1.02358e-08)\u001b[39m"
     ]
    },
    {
     "name": "stdout",
     "output_type": "stream",
     "text": [
      " ** VFI converged successfully!! dif = 9.643912335377536e-9\n"
     ]
    },
    {
     "name": "stderr",
     "output_type": "stream",
     "text": [
      "\u001b[32mSolving individual UMP by VFI:  Time: 0:00:05 (21 iterations)\u001b[39m\n",
      "\u001b[32msimulating aggregate path ... 80%|██████████████████    |  ETA: 0:00:00\u001b[39m"
     ]
    },
    {
     "name": "stdout",
     "output_type": "stream",
     "text": [
      "difference of ALM coefficient is 4.6830600647362886e-8 and B = [0.141839, 0.962193, 0.118302, 0.967185]\n",
      " --- Iteration over ALM coefficient: 33 ---\n"
     ]
    },
    {
     "name": "stderr",
     "output_type": "stream",
     "text": [
      "\u001b[32msimulating aggregate path ...100%|██████████████████████| Time: 0:00:02\u001b[39m\n",
      "\u001b[32mSolving individual UMP by VFI:  (thresh = 1e-08, value = 1.01893e-08)\u001b[39m"
     ]
    },
    {
     "name": "stdout",
     "output_type": "stream",
     "text": [
      " ** VFI converged successfully!! dif = 9.76172032096656e-9\n"
     ]
    },
    {
     "name": "stderr",
     "output_type": "stream",
     "text": [
      "\u001b[32mSolving individual UMP by VFI:  Time: 0:00:09 (33 iterations)\u001b[39m\n",
      "\u001b[32msimulating aggregate path ... 78%|██████████████████    |  ETA: 0:00:00\u001b[39m"
     ]
    },
    {
     "name": "stdout",
     "output_type": "stream",
     "text": [
      "difference of ALM coefficient is 6.680717812290737e-9 and B = [0.141839, 0.962193, 0.118302, 0.967185]\n",
      "-----------------------------------------------------\n",
      "ALM coefficient successfully converged : dif = 6.680717812290737e-9\n",
      "-----------------------------------------------------\n",
      "3935.643705 seconds (29.98 G allocations: 5.733 TiB, 16.24% gc time)\n"
     ]
    },
    {
     "name": "stderr",
     "output_type": "stream",
     "text": [
      "\r",
      "\u001b[32msimulating aggregate path ...100%|██████████████████████| Time: 0:00:02\u001b[39m\n"
     ]
    }
   ],
   "source": [
    "kss = KSSolution(ksp, load_value=false, load_B=false)\n",
    "ns = NonStochastic(ksp, zi_shocks[1])\n",
    "@time K_ts = find_ALM_coef!(VFI(Howard_on=false, Howard_n_iter=20),\n",
    "                ns, ksp, kss, zi_shocks, \n",
    "            tol_ump = 1e-8, max_iter_ump = 10000,\n",
    "            tol_B = 1e-8, max_iter_B = 500, update_B = 0.3,\n",
    "            T_discard = T_discard);"
   ]
  },
  {
   "cell_type": "code",
   "execution_count": 20,
   "metadata": {},
   "outputs": [
    {
     "data": {
      "image/png": "[encoded data removed]"
     },
     "execution_count": 20,
     "metadata": {},
     "output_type": "execute_result"
    }
   ],
   "source": [
    "plot_ALM(ksp.z_grid, zi_shocks, kss.B, K_ts, T_discard = T_discard)"
   ]
  },
  {
   "cell_type": "code",
   "execution_count": 21,
   "metadata": {},
   "outputs": [
    {
     "name": "stdout",
     "output_type": "stream",
     "text": [
      "Approximated aggregate capital law of motion\n",
      "log(K_{t+1})=0.14183884897222415+0.962193057333297log(K_{t}) in good time (R2 = 0.9999993082093952)\n",
      "log(K_{t+1})=0.11830233274973227+0.9671851357222669log(K_{t}) in bad time (R2 = 0.9999989625914406)\n"
     ]
    }
   ],
   "source": [
    "#kss.B  # Regression coefficient\n",
    "println(\"Approximated aggregate capital law of motion\")\n",
    "println(\"log(K_{t+1})=$(kss.B[1])+$(kss.B[2])log(K_{t}) in good time (R2 = $(kss.R2[1]))\")\n",
    "println(\"log(K_{t+1})=$(kss.B[3])+$(kss.B[4])log(K_{t}) in bad time (R2 = $(kss.R2[2]))\")"
   ]
  },
  {
   "cell_type": "code",
   "execution_count": 22,
   "metadata": {},
   "outputs": [],
   "source": [
    "@save \"result_VFI.jld2\" ksp kss "
   ]
  },
  {
   "cell_type": "code",
   "execution_count": 23,
   "metadata": {},
   "outputs": [
    {
     "name": "stdout",
     "output_type": "stream",
     "text": [
      "mean of capital implied by regression is 39.58313131174572\n",
      "mean of capital implied by simulation is 39.94733411715162\n"
     ]
    }
   ],
   "source": [
    "# Compute mean of capital implied by regression\n",
    "mc = MarkovChain(ksp.transmat.Pz)\n",
    "sd = stationary_distributions(mc)[1]\n",
    "logKg = kss.B[1]/(1-kss.B[2])\n",
    "logKb = kss.B[3]/(1-kss.B[4])\n",
    "meanK_reg = exp(sd[1]*logKg + sd[2]*logKb)\n",
    "meanK_sim = mean(K_ts[T_discard+1:end])\n",
    "println(\"mean of capital implied by regression is $meanK_reg\")\n",
    "println(\"mean of capital implied by simulation is $meanK_sim\")"
   ]
  },
  {
   "cell_type": "markdown",
   "metadata": {},
   "source": [
    "## Figures in Krusell-Smith"
   ]
  },
  {
   "cell_type": "markdown",
   "metadata": {},
   "source": [
    "### Figure 1"
   ]
  },
  {
   "cell_type": "code",
   "execution_count": 24,
   "metadata": {},
   "outputs": [
    {
     "data": {
      "image/png": "[encoded data removed]"
     },
     "execution_count": 24,
     "metadata": {},
     "output_type": "execute_result"
    }
   ],
   "source": [
    "plot_Fig1(ksp, kss, K_ts)"
   ]
  },
  {
   "cell_type": "markdown",
   "metadata": {},
   "source": [
    "### Figure 2"
   ]
  },
  {
   "cell_type": "code",
   "execution_count": 25,
   "metadata": {},
   "outputs": [
    {
     "data": {
      "image/png": "[encoded data removed]"
     },
     "execution_count": 25,
     "metadata": {},
     "output_type": "execute_result"
    }
   ],
   "source": [
    "plot_Fig2(ksp, kss, 40)"
   ]
  }
 ],
 "metadata": {
  "hide_input": false,
  "kernelspec": {
   "display_name": "Julia 1.6.0",
   "language": "julia",
   "name": "julia-1.6"
  },
  "language_info": {
   "file_extension": ".jl",
   "mimetype": "application/julia",
   "name": "julia",
   "version": "1.6.0"
  },
  "toc": {
   "colors": {
    "hover_highlight": "#DAA520",
    "running_highlight": "#FF0000",
    "selected_highlight": "#FFD700"
   },
   "moveMenuLeft": true,
   "nav_menu": {
    "height": "31px",
    "width": "252px"
   },
   "navigate_menu": true,
   "number_sections": true,
   "sideBar": true,
   "threshold": 4,
   "toc_cell": false,
   "toc_section_display": "block",
   "toc_window_display": false
  }
 },
 "nbformat": 4,
 "nbformat_minor": 2
}
